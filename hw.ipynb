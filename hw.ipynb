{
 "cells": [
  {
   "cell_type": "code",
   "execution_count": 4,
   "metadata": {
    "colab": {
     "base_uri": "https://localhost:8080/",
     "height": 221
    },
    "colab_type": "code",
    "id": "_sm7YhnDQAUB",
    "outputId": "b54f753a-1194-4d2b-9c17-f60304647108"
   },
   "outputs": [
    {
     "name": "stdout",
     "output_type": "stream",
     "text": [
      "Defaulting to user installation because normal site-packages is not writeable\n",
      "Requirement already satisfied: plotly-express in /home/azat/.local/lib/python3.6/site-packages (0.4.1)\n",
      "Requirement already satisfied: patsy>=0.5 in /usr/lib/python3.6/site-packages (from plotly-express) (0.5.1)\n",
      "Requirement already satisfied: plotly>=4.1.0 in /home/azat/.local/lib/python3.6/site-packages (from plotly-express) (4.10.0)\n",
      "Requirement already satisfied: scipy>=0.18 in /usr/lib64/python3.6/site-packages (from plotly-express) (1.4.1)\n",
      "Requirement already satisfied: numpy>=1.11 in /usr/lib64/python3.6/site-packages (from plotly-express) (1.18.1)\n",
      "Requirement already satisfied: statsmodels>=0.9.0 in /usr/lib64/python3.6/site-packages (from plotly-express) (0.11.0)\n",
      "Requirement already satisfied: pandas>=0.20.0 in /usr/lib64/python3.6/site-packages (from plotly-express) (1.0.1)\n",
      "Requirement already satisfied: six in /usr/lib/python3.6/site-packages (from patsy>=0.5->plotly-express) (1.11.0)\n",
      "Requirement already satisfied: retrying>=1.3.3 in /home/azat/.local/lib/python3.6/site-packages (from plotly>=4.1.0->plotly-express) (1.3.3)\n",
      "Requirement already satisfied: pytz>=2017.2 in /usr/lib/python3.6/site-packages (from pandas>=0.20.0->plotly-express) (2019.3)\n",
      "Requirement already satisfied: python-dateutil>=2.6.1 in /usr/lib/python3.6/site-packages (from pandas>=0.20.0->plotly-express) (2.8.1)\n",
      "\u001b[33mWARNING: You are using pip version 20.2.2; however, version 20.2.3 is available.\n",
      "You should consider upgrading via the '/usr/bin/python3 -m pip install --upgrade pip' command.\u001b[0m\n"
     ]
    }
   ],
   "source": [
    "import numpy as np \n",
    "import matplotlib.pyplot as plt\n",
    "!pip install plotly-express\n",
    "import plotly_express as px\n",
    "import scipy.stats as sts\n",
    "import requests\n",
    "import pandas as pd\n",
    "import time\n",
    "from fake_useragent import UserAgent\n",
    "from bs4 import BeautifulSoup"
   ]
  },
  {
   "cell_type": "markdown",
   "metadata": {
    "colab_type": "text",
    "id": "HieRuVkcQAUL"
   },
   "source": [
    "## 1. Матрица Вандермонда (10 баллов)\n",
    "\n"
   ]
  },
  {
   "cell_type": "markdown",
   "metadata": {
    "colab_type": "text",
    "id": "vp2tVBpWQAUN"
   },
   "source": [
    "Напишите функцию, генерирующую матрицу [Вандермонда](https://ru.wikipedia.org/wiki/Определитель_Вандермонда), принемающую на вход вектор $(𝑥_1,...,𝑥_𝑛)$ .\n",
    "В этом задании запрещается пользоваться готовыми реализациями (например, numpy.vander), а также np.repeat и np.transpose.\n",
    "При решение задействуйте np.reshape и/или np.newaxis."
   ]
  },
  {
   "cell_type": "code",
   "execution_count": 5,
   "metadata": {
    "colab": {
     "base_uri": "https://localhost:8080/",
     "height": 119
    },
    "colab_type": "code",
    "id": "NVsYlXmMQAUO",
    "outputId": "197f3512-40a2-4175-8828-ab8f1d9749ef"
   },
   "outputs": [
    {
     "name": "stdout",
     "output_type": "stream",
     "text": [
      "1 2 3 4\n",
      "[[ 1  1  1  1]\n",
      " [ 1  2  4  8]\n",
      " [ 1  3  9 27]\n",
      " [ 1  4 16 64]]\n"
     ]
    }
   ],
   "source": [
    "  def vander_matrix(x: np.array) -> np.array:\n",
    "    x = x.reshape((x.shape[0], 1))\n",
    "    y = np.arange(x.shape[0])\n",
    "    z = np.hstack(([x]**y))\n",
    "    return z\n",
    "  x = np.array(list(map(int, input().split(' '))))\n",
    "  print(vander_matrix(x)) "
   ]
  },
  {
   "cell_type": "markdown",
   "metadata": {
    "colab_type": "text",
    "id": "8ZxHg8bSQAUV"
   },
   "source": [
    "## 2. Марафон (30 баллов)"
   ]
  },
  {
   "cell_type": "markdown",
   "metadata": {
    "colab_type": "text",
    "id": "vBfBSJA9QAUW"
   },
   "source": [
    "#### История\n",
    "Как-то раз Винни-Пух, Пятачок, Кролик и Иа-Иа решили пробежать марафон. Они договорились бежать $n$ часов. Побеждает тот, кто пробегает за эти $n$ часов больше всего километров. Каждый участник бежит по-разному, то сколько он пробежит за один час поддается одному из законов распределений. Например, если имеется равномерное распределение $U[1,3]$, то участник может пробежать за первый час 1.3км, за второй 2.4км и так далее.\n",
    "\n",
    "* Винни-Пух в целом может пробежать достаточно много, но с большой вероятностью останавливается покушать мёда и пробегает мало. Его закон распределения это показательное распределение с $\\lambda = 1$.\n",
    "* Пятачок бежит в одном темпе и старается пробегать приблизительно одинаковую дистанцию. Изредка, он может перепутать направление и немного пробежать не в ту сторону. Его закон распределения это нормальное распределение $N(1, 1)$.\n",
    "* Кролик - перфекционист. Он бежит целое количество киллометров. Если он понимает, что за оставшееся время он уже не пробежит еще один километр, то он останавливается и ждет следующий час. Его закон распределения это распределение Пуассона с $\\lambda = 1$.\n",
    "* Иа-Иа в течение часа может грустить с вероятностью 0.5 и пробжеать 0 километров или быть очень веселым (с вероятностью 0.5) и пробежать 2 километра. Его закон распределения это распределение Бернулли.\n",
    "\n",
    "#### Задание №1\n",
    "\n",
    "Вам нужно: \n",
    "* Создать трехмерную матрицу размера $10^4 \\times 4 \\times n$. Первая ось отвечает за номер марафона, вторая ось за каждого участника, а третья ось за каждый час марафона. Вторую и третью ось можно поменять, если вам так удобнее.\n",
    "* Выявить победителя в каждом из $10^4$ марафонов. \n",
    "* Нарисовать столбчатую диаграмму, на которой будет видно кто и сколько раз побеждал в марафоне.\n",
    "* Запрещено пользоваться циклами. Нужно использовать возможности numpy.\n",
    "\n",
    "Что можно сказать о результатах?\n",
    "\n",
    "#### Задание №2\n",
    " \n",
    "Участники решили объединиться в пары: Винни-Пух с Пятачком, Кролик с Иа-Иа. Они решили суммировать свои результаты.\n",
    "\n",
    "Вам нужно: \n",
    "* Сгенерировать новую трехмерную матрицу, но уже объединив участников в команды.\n",
    "* Выявить команду-победителя в каждом из $10^4$ марафонов. \n",
    "* Нарисовать столбчатую диаграмму, на которой будет видно кто и сколько раз побеждал в марафоне.\n",
    "\n",
    "Логичны ли полученные результаты?"
   ]
  },
  {
   "cell_type": "code",
   "execution_count": 0,
   "metadata": {
    "colab": {},
    "colab_type": "code",
    "id": "LQdXK4_tQAUY"
   },
   "outputs": [],
   "source": [
    "def individual_champ(n: int):\n",
    "  total_dist = {'winnie' : np.zeros(10**4), 'rabbit' : np.zeros(10**4), 'piglet' : np.zeros(10**4), 'eeyore' : np.zeros(10**4)}\n",
    "  \n",
    "  winnie = np.random.exponential(1.0, size=(10**4, 1, n))\n",
    "  piglet = np.random.normal(1, 1, size=(10**4, 1, n))\n",
    "  rabbit = np.random.poisson(1, size=(10**4, 1, n))\n",
    "  eeyore = 2 * np.random.binomial(1, 0.5, size=(10**4, 1, n))\n",
    "\n",
    "  total_dist['winnie'] = np.sum(winnie, axis=2).flatten()\n",
    "  total_dist['piglet'] = np.sum(piglet, axis=2).flatten()\n",
    "  total_dist['rabbit'] = np.sum(rabbit, axis=2).flatten()\n",
    "  total_dist['eeyore'] = np.sum(eeyore, axis=2).flatten()\n",
    "\n",
    "  distances = np.hstack((total_dist['winnie'].reshape(10**4, -1), total_dist['piglet'].reshape(10**4, -1), total_dist['rabbit'].reshape(10**4, -1), total_dist['eeyore'].reshape(10**4, -1)))\n",
    "  win_in_each = np.argmax(distances, axis=1)\n",
    "  number_of_wins = {'winnie' : np.count_nonzero(win_in_each == 0), 'piglet' : np.count_nonzero(win_in_each==1), 'rabbit' : np.count_nonzero(win_in_each==2), 'eeyore' : np.count_nonzero(win_in_each==3)}\n",
    "  return number_of_wins"
   ]
  },
  {
   "cell_type": "code",
   "execution_count": 0,
   "metadata": {
    "colab": {
     "base_uri": "https://localhost:8080/",
     "height": 136
    },
    "colab_type": "code",
    "id": "GqgJncIuQE9p",
    "outputId": "3d5510e8-eb87-44e1-e4f4-eaf0bfacd01a"
   },
   "outputs": [
    {
     "name": "stdout",
     "output_type": "stream",
     "text": [
      "Введите длительность забегов в часах:\n",
      "4\n",
      "number of wins\n",
      "winnie: 2380 \n",
      "piglet: 2595 \n",
      "rabbit: 2598 \n",
      "eeyore: 2427\n"
     ]
    }
   ],
   "source": [
    "print('Введите длительность забегов в часах:')\n",
    "n = int(input())\n",
    "number_of_wins = individual_champ(n)\n",
    "print('number of wins')\n",
    "print('winnie:', number_of_wins['winnie'], '\\npiglet:', number_of_wins['piglet'], '\\nrabbit:', number_of_wins['rabbit'], '\\neeyore:', number_of_wins['eeyore'])"
   ]
  },
  {
   "cell_type": "code",
   "execution_count": 0,
   "metadata": {
    "colab": {
     "base_uri": "https://localhost:8080/",
     "height": 295
    },
    "colab_type": "code",
    "id": "SfGJrqmktqfJ",
    "outputId": "bdf3d67f-dba6-485f-9af0-d45560f747ee"
   },
   "outputs": [
    {
     "data": {
      "image/png": "[encoded data removed]",
      "text/plain": [
       "<Figure size 432x288 with 1 Axes>"
      ]
     },
     "metadata": {
      "needs_background": "light",
      "tags": []
     },
     "output_type": "display_data"
    }
   ],
   "source": [
    "fig, ax = plt.subplots()\n",
    "\n",
    "names = list(number_of_wins.keys())\n",
    "wins_number = list(number_of_wins.values())\n",
    "ax.barh(names, wins_number)\n",
    "\n",
    "\n",
    "plt.ylabel('Names')\n",
    "plt.xlabel('Number of wins')\n",
    "plt.title('Wins')\n",
    "\n",
    "\n",
    "plt.show()"
   ]
  },
  {
   "cell_type": "markdown",
   "metadata": {
    "colab_type": "text",
    "id": "56IROFFowhd7"
   },
   "source": [
    "Количество побед между персонажами практически равное.\n"
   ]
  },
  {
   "cell_type": "code",
   "execution_count": 0,
   "metadata": {
    "colab": {},
    "colab_type": "code",
    "id": "zCD6U_KcQE5z"
   },
   "outputs": [],
   "source": [
    "#Задание 2\n",
    "def team_champ(n: int):\n",
    "  winnie_piglet = np.random.exponential(1.0, size=(10**4, 1, n)) + np.random.normal(1, 1, size=(10**4, 1, n))\n",
    "  rabbit_eeyore = np.random.poisson(1, size=(10**4, 1, n)) + 2 * np.random.binomial(1, 0.5, size=(10**4, 1, n))\n",
    "\n",
    "  pair_dist = {'winnie_piglet' : np.zeros((10**4, 1)), 'rabbit_eeyore' : np.zeros((10**4, 1))}\n",
    "  pair_dist['winnie_piglet'] = np.sum(winnie_piglet, axis=2).flatten().reshape(10**4, -1)\n",
    "  pair_dist['rabbit_eeyore'] = np.sum(rabbit_eeyore, axis=2).flatten().reshape(10**4, -1)\n",
    "\n",
    "  pair_distances = np.hstack((pair_dist['winnie_piglet'], pair_dist['rabbit_eeyore']))\n",
    "  pair_win_in_each = np.argmax(pair_distances, axis=1)\n",
    "  num_of_pair_wins = {'winnie_piglet' : np.count_nonzero(pair_win_in_each == 0), 'rabbit_eeyore' : np.count_nonzero(pair_win_in_each==1)}\n",
    "  return num_of_pair_wins  "
   ]
  },
  {
   "cell_type": "code",
   "execution_count": 0,
   "metadata": {
    "colab": {
     "base_uri": "https://localhost:8080/",
     "height": 102
    },
    "colab_type": "code",
    "id": "Qa8B-RAIgp6A",
    "outputId": "41c61654-7188-4023-d196-5e7a323d0d68"
   },
   "outputs": [
    {
     "name": "stdout",
     "output_type": "stream",
     "text": [
      "Введите длительность забега в часах:\n",
      "3\n",
      "Num of wins\n",
      "Winnie and piglet: 4914 \n",
      "Rabbit & eeyore: 5086\n"
     ]
    }
   ],
   "source": [
    "print(\"Введите длительность забега в часах:\")\n",
    "n = int(input())\n",
    "num_of_pair_wins = team_champ(n)\n",
    "print('Num of wins')\n",
    "print('Winnie and piglet:', num_of_pair_wins['winnie_piglet'], '\\nRabbit & eeyore:', num_of_pair_wins['rabbit_eeyore'])"
   ]
  },
  {
   "cell_type": "code",
   "execution_count": 0,
   "metadata": {
    "colab": {
     "base_uri": "https://localhost:8080/",
     "height": 295
    },
    "colab_type": "code",
    "id": "gbkAxdA8i7eS",
    "outputId": "d197cbde-4b62-4c15-ab80-08cb9684c10b"
   },
   "outputs": [
    {
     "data": {
      "image/png": "[encoded data removed]",
      "text/plain": [
       "<Figure size 432x288 with 1 Axes>"
      ]
     },
     "metadata": {
      "needs_background": "light",
      "tags": []
     },
     "output_type": "display_data"
    }
   ],
   "source": [
    "fig, ax = plt.subplots()\n",
    "\n",
    "team_names = list(num_of_pair_wins.keys())\n",
    "team_wins_number = list(num_of_pair_wins.values())\n",
    "\n",
    "ax.barh(team_names, team_wins_number)\n",
    "\n",
    "plt.xlabel('Number of wins')\n",
    "plt.ylabel('Teams')\n",
    "plt.title('Wins in teams')\n",
    "\n",
    "plt.show()"
   ]
  },
  {
   "cell_type": "markdown",
   "metadata": {
    "colab_type": "text",
    "id": "Y6XyAl_VyUF6"
   },
   "source": [
    "Данные результаты логичны. Так же как и в индивидуальных соревнованиях, мы получаем практически одинаковое количество побед обеих команд."
   ]
  },
  {
   "cell_type": "markdown",
   "metadata": {
    "colab_type": "text",
    "id": "dcbCzWuwQAUm"
   },
   "source": [
    "## 3. Avito (30 баллов)"
   ]
  },
  {
   "cell_type": "markdown",
   "metadata": {
    "colab_type": "text",
    "id": "uyU0SRhNQAUn"
   },
   "source": [
    "В этом задании вам нужно будет написать функцию, которая парсит [Авито](https://www.avito.ru) (будем рассматривать только Москву). Эта функция принимает два параметра:\n",
    "* search - то, что мы ищем на avito\n",
    "* page - номер страницы, с которой парсим информацию\n",
    "\n",
    "```python\n",
    "def parse_page(search, page):\n",
    "    # тут ваш код\n",
    "df = parse_page('гречка', 4)\n",
    "```\n",
    "Нужно скачать следующую информацию:\n",
    "* название объявления\n",
    "* ссылка на объявление\n",
    "* цена\n",
    "* метро (если есть), вам нужно аккуратно обрабатывать None или использовать конструкцию try-except\n",
    "* сколько метров от метро (если есть)\n",
    "\n",
    "Эту информацию лучше сохранить в виде pandas df.\n",
    "\n",
    "В данном задании **не нужно** парсить все страницы (вас могут забанить). Нужно лишь сделать функцию, которая парсит одну страницу. Чтобы вас не забанили сделаейте request один раз и работайте с вашей страничкой без функции. После того как все будет готово, оберните весь ваш код в функцию."
   ]
  },
  {
   "cell_type": "code",
   "execution_count": 0,
   "metadata": {
    "colab": {},
    "colab_type": "code",
    "id": "HeYIlDfIz0Li"
   },
   "outputs": [],
   "source": [
    "def get_price(announ):\n",
    "  try: \n",
    "    price = announ.find('span', {'class' : 'snippet-price snippet-price-vas' and 'snippet-price'}).text\n",
    "    return price.replace('\\n', '').replace(' ', '')[:-1]\n",
    "  except:\n",
    "    return None"
   ]
  },
  {
   "cell_type": "code",
   "execution_count": 0,
   "metadata": {
    "colab": {},
    "colab_type": "code",
    "id": "RVZeWpkT0y-V"
   },
   "outputs": [],
   "source": [
    "def get_metro(announ):\n",
    "  try:\n",
    "    return announ.find('span', {'class' : 'item-address-georeferences-item'})\n",
    "  except:\n",
    "    return '';"
   ]
  },
  {
   "cell_type": "code",
   "execution_count": 0,
   "metadata": {
    "colab": {},
    "colab_type": "code",
    "id": "NXwOoZcZ1-tc"
   },
   "outputs": [],
   "source": [
    "def get_station(metro):\n",
    "  try:\n",
    "    return metro.find('span', {'class' : 'item-address-georeferences-item__content'}).text\n",
    "  except:\n",
    "    return '';"
   ]
  },
  {
   "cell_type": "code",
   "execution_count": 0,
   "metadata": {
    "colab": {},
    "colab_type": "code",
    "id": "6hzRf9jD2w_B"
   },
   "outputs": [],
   "source": [
    "def get_distance(metro):\n",
    "  try:\n",
    "    return metro.find('span', {'class' : 'item-address-georeferences-item__after'}).text\n",
    "  except:\n",
    "    return None"
   ]
  },
  {
   "cell_type": "code",
   "execution_count": 0,
   "metadata": {
    "colab": {},
    "colab_type": "code",
    "id": "Yy-cwELKsecp"
   },
   "outputs": [],
   "source": [
    "def parse_page(search: str, page: int):\n",
    "  page_link = 'https://www.avito.ru/moskva?q={}&p={}'.format(search, page)\n",
    "  response = requests.get(page_link, headers={'User-Agent' : UserAgent().chrome})\n",
    "  print(response)\n",
    "\n",
    "  soup = BeautifulSoup(response.content, 'html.parser')\n",
    "  try:\n",
    "    announs = soup.find_all('div', {'class' : 'item__line'})\n",
    "  except:\n",
    "    return []\n",
    "  links = []\n",
    "  titles = []\n",
    "  prices = []\n",
    "  stations = []\n",
    "  distances = []\n",
    "  for announ in announs:\n",
    "    links.append('https://www.avito.ru' + announ.find('a', {'class' : \"snippet-link\"}).attrs['href'])\n",
    "\n",
    "    titles.append(announ.find('a', {'class' : 'snippet-link'}).text)\n",
    "\n",
    "    prices.append(get_price(announ))\n",
    "\n",
    "    metro = get_metro(announ)\n",
    "\n",
    "    stations.append(get_station(metro))\n",
    "\n",
    "    distances.append(get_distance(metro))\n",
    "\n",
    "  return list(zip(titles, links, prices, stations, distances))"
   ]
  },
  {
   "cell_type": "code",
   "execution_count": 44,
   "metadata": {
    "colab": {
     "base_uri": "https://localhost:8080/",
     "height": 51
    },
    "colab_type": "code",
    "id": "fNCgdolBjNTY",
    "outputId": "f46e0fd6-9668-4652-ae0b-038a3a1841a4"
   },
   "outputs": [
    {
     "name": "stdout",
     "output_type": "stream",
     "text": [
      "<Response [200]>\n"
     ]
    },
    {
     "data": {
      "text/plain": [
       "51"
      ]
     },
     "execution_count": 44,
     "metadata": {
      "tags": []
     },
     "output_type": "execute_result"
    }
   ],
   "source": [
    "df = parse_page('гитара', 2)\n",
    "df = pd.DataFrame(df, columns=['title', 'link', 'price', 'metro_station', 'distance_from_station'])\n",
    "len(df)"
   ]
  },
  {
   "cell_type": "code",
   "execution_count": 45,
   "metadata": {
    "colab": {
     "base_uri": "https://localhost:8080/",
     "height": 514
    },
    "colab_type": "code",
    "id": "W1EG7FyunbM_",
    "outputId": "a8fe8108-7020-41b9-ee3a-780d360b46eb"
   },
   "outputs": [
    {
     "data": {
      "text/html": [
       "<div>\n",
       "<style scoped>\n",
       "    .dataframe tbody tr th:only-of-type {\n",
       "        vertical-align: middle;\n",
       "    }\n",
       "\n",
       "    .dataframe tbody tr th {\n",
       "        vertical-align: top;\n",
       "    }\n",
       "\n",
       "    .dataframe thead th {\n",
       "        text-align: right;\n",
       "    }\n",
       "</style>\n",
       "<table border=\"1\" class=\"dataframe\">\n",
       "  <thead>\n",
       "    <tr style=\"text-align: right;\">\n",
       "      <th></th>\n",
       "      <th>title</th>\n",
       "      <th>link</th>\n",
       "      <th>price</th>\n",
       "      <th>metro_station</th>\n",
       "      <th>distance_from_station</th>\n",
       "    </tr>\n",
       "  </thead>\n",
       "  <tbody>\n",
       "    <tr>\n",
       "      <th>0</th>\n",
       "      <td>Гитара</td>\n",
       "      <td>https://www.avito.ru/moskva/muzykalnye_instrum...</td>\n",
       "      <td>1500</td>\n",
       "      <td>Семеновская</td>\n",
       "      <td>100 м</td>\n",
       "    </tr>\n",
       "    <tr>\n",
       "      <th>1</th>\n",
       "      <td>Гитара</td>\n",
       "      <td>https://www.avito.ru/moskva/muzykalnye_instrum...</td>\n",
       "      <td>1500</td>\n",
       "      <td>Семеновская</td>\n",
       "      <td>100 м</td>\n",
       "    </tr>\n",
       "    <tr>\n",
       "      <th>2</th>\n",
       "      <td>Гитары Акустическая, Укулеле +Комплект Аксессу...</td>\n",
       "      <td>https://www.avito.ru/moskva/muzykalnye_instrum...</td>\n",
       "      <td>1550</td>\n",
       "      <td>Шоссе Энтузиастов</td>\n",
       "      <td>None</td>\n",
       "    </tr>\n",
       "    <tr>\n",
       "      <th>3</th>\n",
       "      <td>Занятия для детей по гитаре</td>\n",
       "      <td>https://www.avito.ru/moskva/predlozheniya_uslu...</td>\n",
       "      <td>100</td>\n",
       "      <td>Бабушкинская</td>\n",
       "      <td>1,3 км</td>\n",
       "    </tr>\n",
       "    <tr>\n",
       "      <th>4</th>\n",
       "      <td>Гитара Framus Ideal</td>\n",
       "      <td>https://www.avito.ru/moskva/muzykalnye_instrum...</td>\n",
       "      <td>4650</td>\n",
       "      <td>Кутузовская</td>\n",
       "      <td>None</td>\n",
       "    </tr>\n",
       "    <tr>\n",
       "      <th>5</th>\n",
       "      <td>Электро гитара в комплекте</td>\n",
       "      <td>https://www.avito.ru/moskva/muzykalnye_instrum...</td>\n",
       "      <td>17000</td>\n",
       "      <td>Щелковская</td>\n",
       "      <td>100 м</td>\n",
       "    </tr>\n",
       "    <tr>\n",
       "      <th>6</th>\n",
       "      <td>Гитара Legpap</td>\n",
       "      <td>https://www.avito.ru/moskva/muzykalnye_instrum...</td>\n",
       "      <td>8500</td>\n",
       "      <td>Новокосино</td>\n",
       "      <td>None</td>\n",
       "    </tr>\n",
       "    <tr>\n",
       "      <th>7</th>\n",
       "      <td>Гитара детская</td>\n",
       "      <td>https://www.avito.ru/moskva/tovary_dlya_detey_...</td>\n",
       "      <td>450</td>\n",
       "      <td>Калужская</td>\n",
       "      <td>800 м</td>\n",
       "    </tr>\n",
       "    <tr>\n",
       "      <th>8</th>\n",
       "      <td>Классическая гитара 4/4,Cort AC 100 SG</td>\n",
       "      <td>https://www.avito.ru/moskva_zelenograd/muzykal...</td>\n",
       "      <td>7550</td>\n",
       "      <td></td>\n",
       "      <td>None</td>\n",
       "    </tr>\n",
       "    <tr>\n",
       "      <th>9</th>\n",
       "      <td>Гитара Gibson Les Paul</td>\n",
       "      <td>https://www.avito.ru/moskva/muzykalnye_instrum...</td>\n",
       "      <td>150000</td>\n",
       "      <td>Новокосино</td>\n",
       "      <td>None</td>\n",
       "    </tr>\n",
       "    <tr>\n",
       "      <th>10</th>\n",
       "      <td>Гитара Crafter JM/250 VLS/V</td>\n",
       "      <td>https://www.avito.ru/moskva/muzykalnye_instrum...</td>\n",
       "      <td>25000</td>\n",
       "      <td>Бабушкинская</td>\n",
       "      <td>100 м</td>\n",
       "    </tr>\n",
       "    <tr>\n",
       "      <th>11</th>\n",
       "      <td>Гитара Martin USA DM12</td>\n",
       "      <td>https://www.avito.ru/moskva/muzykalnye_instrum...</td>\n",
       "      <td>85000</td>\n",
       "      <td>Новокосино</td>\n",
       "      <td>None</td>\n",
       "    </tr>\n",
       "    <tr>\n",
       "      <th>12</th>\n",
       "      <td>Гитара Crafter TA-050/AM</td>\n",
       "      <td>https://www.avito.ru/moskva/muzykalnye_instrum...</td>\n",
       "      <td>25000</td>\n",
       "      <td>Бабушкинская</td>\n",
       "      <td>100 м</td>\n",
       "    </tr>\n",
       "    <tr>\n",
       "      <th>13</th>\n",
       "      <td>Гитара советская</td>\n",
       "      <td>https://www.avito.ru/moskva/muzykalnye_instrum...</td>\n",
       "      <td>200</td>\n",
       "      <td>Сокольники</td>\n",
       "      <td>1 км</td>\n",
       "    </tr>\n",
       "    <tr>\n",
       "      <th>14</th>\n",
       "      <td>Гитара детская</td>\n",
       "      <td>https://www.avito.ru/moskva/tovary_dlya_detey_...</td>\n",
       "      <td>300</td>\n",
       "      <td>Речной вокзал</td>\n",
       "      <td>1,4 км</td>\n",
       "    </tr>\n",
       "  </tbody>\n",
       "</table>\n",
       "</div>"
      ],
      "text/plain": [
       "                                                title  ... distance_from_station\n",
       "0                                              Гитара  ...                 100 м\n",
       "1                                              Гитара  ...                 100 м\n",
       "2   Гитары Акустическая, Укулеле +Комплект Аксессу...  ...                  None\n",
       "3                         Занятия для детей по гитаре  ...                1,3 км\n",
       "4                                 Гитара Framus Ideal  ...                  None\n",
       "5                          Электро гитара в комплекте  ...                 100 м\n",
       "6                                       Гитара Legpap  ...                  None\n",
       "7                                      Гитара детская  ...                 800 м\n",
       "8              Классическая гитара 4/4,Cort AC 100 SG  ...                  None\n",
       "9                              Гитара Gibson Les Paul  ...                  None\n",
       "10                        Гитара Crafter JM/250 VLS/V  ...                 100 м\n",
       "11                             Гитара Martin USA DM12  ...                  None\n",
       "12                           Гитара Crafter TA-050/AM  ...                 100 м\n",
       "13                                   Гитара советская  ...                  1 км\n",
       "14                                     Гитара детская  ...                1,4 км\n",
       "\n",
       "[15 rows x 5 columns]"
      ]
     },
     "execution_count": 45,
     "metadata": {
      "tags": []
     },
     "output_type": "execute_result"
    }
   ],
   "source": [
    "df[:15]"
   ]
  },
  {
   "cell_type": "markdown",
   "metadata": {
    "colab_type": "text",
    "id": "7LC7LL_wkWWp"
   },
   "source": []
  },
  {
   "cell_type": "markdown",
   "metadata": {
    "colab_type": "text",
    "id": "eUcElS62QAUv"
   },
   "source": [
    "## 4. Walmart (30 баллов)"
   ]
  },
  {
   "cell_type": "markdown",
   "metadata": {
    "colab_type": "text",
    "id": "5jv2F9EsQAUx"
   },
   "source": [
    "В файле *walmart.csv* нам предоставлены исторические данные о продажах магазинов Walmart, расположенных в разных регионах.\n",
    "\n",
    "Нам доступны следующие переменные:\n",
    "\n",
    "* **Date** – дата;\n",
    "* **Store** – номер магазина;\n",
    "* **Dept** – номер отдела;\n",
    "* **Weekly_Sales** – объём продаж в данную неделю в данном отделе\n",
    "* **Type** – тип магазина;\n",
    "* **Size** – размер магазина;\n",
    "* **IsHoliday** – является ли неделя праздничной;\n",
    "* **Temperature** – средняя температура в регионе в градусах по Фаренгейту;\n",
    "* **Fuel_Price** – стоимость топлива в регионе;\n",
    "* **MarkDown1-5** – данные, связанные с рекламными уценками, которые запускает Walmart. Данные уценки доступны только после ноября 2011 года и доступны не для всех магазинов. Данные анонимизированы. Непонятно на какие именно товары производилась уценка и в каких количествах. Компании часто анонимизируют данные, когда выкладывают их в открытый доступ.\n",
    "* **CPI** – индекс потребительских цен;\n",
    "* **Unemployment** – уровень безработицы.\n",
    "\n",
    "\n",
    "Вам нужно выполнить следующие задания:\n",
    "1. Загрузить файл с данными. Отобразить первые и последние 5 наблюдений. Узнать сколько наблюдений и переменных есть в вашем наборе данных. Какой тип(формат) имеет каждая переменная? Привести переменную Date к формату даты.\n",
    "2. Разобраться с пропущенными значениями:\n",
    "    * вывести сколько пропущенных значений в процентах есть в каждой переменной;\n",
    "    * удалить переменные, которые имеют более 60% пропущенных значений.\n",
    "3. Сколько магазинов и отделов присутствует в выборке, за какой период времени у нас имеются данные? \n",
    "4. Посмотреть динамику продаж в магазинах walmart в целом. Для этого можно построить график, где по оси X будет дата, а по оси Y продажи всей сети Walmart.\n",
    "5. Найдите и нарисуйте матрицу корреляции для числовых показателей.\n",
    "6. Найдите топ-5 самых больших магазинов по суммарным продажам за все время и отобразите динамику их продаж на одном графике.\n",
    "7. Найдите топ-10 самых больших отделов по суммарным продажам за 2011 год среди магазинов с типом А и нарисуйте столбчатую диаграмму для них"
   ]
  },
  {
   "cell_type": "code",
   "execution_count": 0,
   "metadata": {
    "colab": {},
    "colab_type": "code",
    "id": "vgbQw3edQAUz"
   },
   "outputs": [],
   "source": [
    "# ваше решение тут\n",
    "walmart = pd.read_csv('walmart.csv')"
   ]
  },
  {
   "cell_type": "code",
   "execution_count": 0,
   "metadata": {
    "colab": {
     "base_uri": "https://localhost:8080/",
     "height": 102
    },
    "colab_type": "code",
    "id": "AwsmoXQcQVk9",
    "outputId": "d51bda87-82dc-400b-c502-79b597b3b222"
   },
   "outputs": [
    {
     "name": "stdout",
     "output_type": "stream",
     "text": [
      "(418239, 16)\n"
     ]
    },
    {
     "data": {
      "text/plain": [
       "Index(['Store', 'Date', 'Dept', 'Weekly_Sales', 'IsHoliday', 'Type', 'Size',\n",
       "       'Temperature', 'Fuel_Price', 'MarkDown1', 'MarkDown2', 'MarkDown3',\n",
       "       'MarkDown4', 'MarkDown5', 'CPI', 'Unemployment'],\n",
       "      dtype='object')"
      ]
     },
     "execution_count": 92,
     "metadata": {
      "tags": []
     },
     "output_type": "execute_result"
    }
   ],
   "source": [
    "print(walmart.shape)\n",
    "walmart.columns"
   ]
  },
  {
   "cell_type": "code",
   "execution_count": 0,
   "metadata": {
    "colab": {
     "base_uri": "https://localhost:8080/",
     "height": 309
    },
    "colab_type": "code",
    "id": "cOuzmgjh9sYF",
    "outputId": "cb7584c8-7315-418e-ffb2-326aff2c13ac"
   },
   "outputs": [
    {
     "data": {
      "text/html": [
       "<div>\n",
       "<style scoped>\n",
       "    .dataframe tbody tr th:only-of-type {\n",
       "        vertical-align: middle;\n",
       "    }\n",
       "\n",
       "    .dataframe tbody tr th {\n",
       "        vertical-align: top;\n",
       "    }\n",
       "\n",
       "    .dataframe thead th {\n",
       "        text-align: right;\n",
       "    }\n",
       "</style>\n",
       "<table border=\"1\" class=\"dataframe\">\n",
       "  <thead>\n",
       "    <tr style=\"text-align: right;\">\n",
       "      <th></th>\n",
       "      <th>Store</th>\n",
       "      <th>Date</th>\n",
       "      <th>Dept</th>\n",
       "      <th>Weekly_Sales</th>\n",
       "      <th>IsHoliday</th>\n",
       "      <th>Type</th>\n",
       "      <th>Size</th>\n",
       "      <th>Temperature</th>\n",
       "      <th>Fuel_Price</th>\n",
       "      <th>MarkDown1</th>\n",
       "      <th>MarkDown2</th>\n",
       "      <th>MarkDown3</th>\n",
       "      <th>MarkDown4</th>\n",
       "      <th>MarkDown5</th>\n",
       "      <th>CPI</th>\n",
       "      <th>Unemployment</th>\n",
       "    </tr>\n",
       "  </thead>\n",
       "  <tbody>\n",
       "    <tr>\n",
       "      <th>0</th>\n",
       "      <td>1</td>\n",
       "      <td>2010-02-05</td>\n",
       "      <td>1</td>\n",
       "      <td>24924.50</td>\n",
       "      <td>False</td>\n",
       "      <td>A</td>\n",
       "      <td>151315</td>\n",
       "      <td>42.31</td>\n",
       "      <td>2.572</td>\n",
       "      <td>NaN</td>\n",
       "      <td>NaN</td>\n",
       "      <td>NaN</td>\n",
       "      <td>NaN</td>\n",
       "      <td>NaN</td>\n",
       "      <td>211.096358</td>\n",
       "      <td>8.106</td>\n",
       "    </tr>\n",
       "    <tr>\n",
       "      <th>1</th>\n",
       "      <td>1</td>\n",
       "      <td>2010-02-12</td>\n",
       "      <td>1</td>\n",
       "      <td>46039.49</td>\n",
       "      <td>True</td>\n",
       "      <td>A</td>\n",
       "      <td>151315</td>\n",
       "      <td>38.51</td>\n",
       "      <td>2.548</td>\n",
       "      <td>NaN</td>\n",
       "      <td>NaN</td>\n",
       "      <td>NaN</td>\n",
       "      <td>NaN</td>\n",
       "      <td>NaN</td>\n",
       "      <td>211.242170</td>\n",
       "      <td>8.106</td>\n",
       "    </tr>\n",
       "    <tr>\n",
       "      <th>2</th>\n",
       "      <td>1</td>\n",
       "      <td>2010-02-19</td>\n",
       "      <td>1</td>\n",
       "      <td>41595.55</td>\n",
       "      <td>False</td>\n",
       "      <td>A</td>\n",
       "      <td>151315</td>\n",
       "      <td>39.93</td>\n",
       "      <td>2.514</td>\n",
       "      <td>NaN</td>\n",
       "      <td>NaN</td>\n",
       "      <td>NaN</td>\n",
       "      <td>NaN</td>\n",
       "      <td>NaN</td>\n",
       "      <td>211.289143</td>\n",
       "      <td>8.106</td>\n",
       "    </tr>\n",
       "    <tr>\n",
       "      <th>3</th>\n",
       "      <td>1</td>\n",
       "      <td>2010-02-26</td>\n",
       "      <td>1</td>\n",
       "      <td>19403.54</td>\n",
       "      <td>False</td>\n",
       "      <td>A</td>\n",
       "      <td>151315</td>\n",
       "      <td>46.63</td>\n",
       "      <td>2.561</td>\n",
       "      <td>NaN</td>\n",
       "      <td>NaN</td>\n",
       "      <td>NaN</td>\n",
       "      <td>NaN</td>\n",
       "      <td>NaN</td>\n",
       "      <td>211.319643</td>\n",
       "      <td>8.106</td>\n",
       "    </tr>\n",
       "    <tr>\n",
       "      <th>4</th>\n",
       "      <td>1</td>\n",
       "      <td>2010-03-05</td>\n",
       "      <td>1</td>\n",
       "      <td>21827.90</td>\n",
       "      <td>False</td>\n",
       "      <td>A</td>\n",
       "      <td>151315</td>\n",
       "      <td>46.50</td>\n",
       "      <td>2.625</td>\n",
       "      <td>NaN</td>\n",
       "      <td>NaN</td>\n",
       "      <td>NaN</td>\n",
       "      <td>NaN</td>\n",
       "      <td>NaN</td>\n",
       "      <td>211.350143</td>\n",
       "      <td>8.106</td>\n",
       "    </tr>\n",
       "  </tbody>\n",
       "</table>\n",
       "</div>"
      ],
      "text/plain": [
       "   Store        Date  Dept  ...  MarkDown5         CPI Unemployment\n",
       "0      1  2010-02-05     1  ...        NaN  211.096358        8.106\n",
       "1      1  2010-02-12     1  ...        NaN  211.242170        8.106\n",
       "2      1  2010-02-19     1  ...        NaN  211.289143        8.106\n",
       "3      1  2010-02-26     1  ...        NaN  211.319643        8.106\n",
       "4      1  2010-03-05     1  ...        NaN  211.350143        8.106\n",
       "\n",
       "[5 rows x 16 columns]"
      ]
     },
     "execution_count": 93,
     "metadata": {
      "tags": []
     },
     "output_type": "execute_result"
    }
   ],
   "source": [
    "walmart.head()"
   ]
  },
  {
   "cell_type": "code",
   "execution_count": 0,
   "metadata": {
    "colab": {
     "base_uri": "https://localhost:8080/",
     "height": 309
    },
    "colab_type": "code",
    "id": "z27g5yaOqXku",
    "outputId": "1728c7fc-916d-4fc8-a43f-2f674da75f54"
   },
   "outputs": [
    {
     "data": {
      "text/html": [
       "<div>\n",
       "<style scoped>\n",
       "    .dataframe tbody tr th:only-of-type {\n",
       "        vertical-align: middle;\n",
       "    }\n",
       "\n",
       "    .dataframe tbody tr th {\n",
       "        vertical-align: top;\n",
       "    }\n",
       "\n",
       "    .dataframe thead th {\n",
       "        text-align: right;\n",
       "    }\n",
       "</style>\n",
       "<table border=\"1\" class=\"dataframe\">\n",
       "  <thead>\n",
       "    <tr style=\"text-align: right;\">\n",
       "      <th></th>\n",
       "      <th>Store</th>\n",
       "      <th>Date</th>\n",
       "      <th>Dept</th>\n",
       "      <th>Weekly_Sales</th>\n",
       "      <th>IsHoliday</th>\n",
       "      <th>Type</th>\n",
       "      <th>Size</th>\n",
       "      <th>Temperature</th>\n",
       "      <th>Fuel_Price</th>\n",
       "      <th>MarkDown1</th>\n",
       "      <th>MarkDown2</th>\n",
       "      <th>MarkDown3</th>\n",
       "      <th>MarkDown4</th>\n",
       "      <th>MarkDown5</th>\n",
       "      <th>CPI</th>\n",
       "      <th>Unemployment</th>\n",
       "    </tr>\n",
       "  </thead>\n",
       "  <tbody>\n",
       "    <tr>\n",
       "      <th>418234</th>\n",
       "      <td>45</td>\n",
       "      <td>2012-09-21</td>\n",
       "      <td>98</td>\n",
       "      <td>467.30</td>\n",
       "      <td>False</td>\n",
       "      <td>B</td>\n",
       "      <td>118221</td>\n",
       "      <td>65.32</td>\n",
       "      <td>4.038</td>\n",
       "      <td>8452.20</td>\n",
       "      <td>92.28</td>\n",
       "      <td>63.24</td>\n",
       "      <td>2376.38</td>\n",
       "      <td>8670.40</td>\n",
       "      <td>191.856704</td>\n",
       "      <td>8.684</td>\n",
       "    </tr>\n",
       "    <tr>\n",
       "      <th>418235</th>\n",
       "      <td>45</td>\n",
       "      <td>2012-09-28</td>\n",
       "      <td>98</td>\n",
       "      <td>508.37</td>\n",
       "      <td>False</td>\n",
       "      <td>B</td>\n",
       "      <td>118221</td>\n",
       "      <td>64.88</td>\n",
       "      <td>3.997</td>\n",
       "      <td>4556.61</td>\n",
       "      <td>20.64</td>\n",
       "      <td>1.50</td>\n",
       "      <td>1601.01</td>\n",
       "      <td>3288.25</td>\n",
       "      <td>192.013558</td>\n",
       "      <td>8.684</td>\n",
       "    </tr>\n",
       "    <tr>\n",
       "      <th>418236</th>\n",
       "      <td>45</td>\n",
       "      <td>2012-10-05</td>\n",
       "      <td>98</td>\n",
       "      <td>628.10</td>\n",
       "      <td>False</td>\n",
       "      <td>B</td>\n",
       "      <td>118221</td>\n",
       "      <td>64.89</td>\n",
       "      <td>3.985</td>\n",
       "      <td>5046.74</td>\n",
       "      <td>NaN</td>\n",
       "      <td>18.82</td>\n",
       "      <td>2253.43</td>\n",
       "      <td>2340.01</td>\n",
       "      <td>192.170412</td>\n",
       "      <td>8.667</td>\n",
       "    </tr>\n",
       "    <tr>\n",
       "      <th>418237</th>\n",
       "      <td>45</td>\n",
       "      <td>2012-10-12</td>\n",
       "      <td>98</td>\n",
       "      <td>1061.02</td>\n",
       "      <td>False</td>\n",
       "      <td>B</td>\n",
       "      <td>118221</td>\n",
       "      <td>54.47</td>\n",
       "      <td>4.000</td>\n",
       "      <td>1956.28</td>\n",
       "      <td>NaN</td>\n",
       "      <td>7.89</td>\n",
       "      <td>599.32</td>\n",
       "      <td>3990.54</td>\n",
       "      <td>192.327265</td>\n",
       "      <td>8.667</td>\n",
       "    </tr>\n",
       "    <tr>\n",
       "      <th>418238</th>\n",
       "      <td>45</td>\n",
       "      <td>2012-10-19</td>\n",
       "      <td>98</td>\n",
       "      <td>760.01</td>\n",
       "      <td>False</td>\n",
       "      <td>B</td>\n",
       "      <td>118221</td>\n",
       "      <td>56.47</td>\n",
       "      <td>3.969</td>\n",
       "      <td>2004.02</td>\n",
       "      <td>NaN</td>\n",
       "      <td>3.18</td>\n",
       "      <td>437.73</td>\n",
       "      <td>1537.49</td>\n",
       "      <td>192.330854</td>\n",
       "      <td>8.667</td>\n",
       "    </tr>\n",
       "  </tbody>\n",
       "</table>\n",
       "</div>"
      ],
      "text/plain": [
       "        Store        Date  Dept  ...  MarkDown5         CPI Unemployment\n",
       "418234     45  2012-09-21    98  ...    8670.40  191.856704        8.684\n",
       "418235     45  2012-09-28    98  ...    3288.25  192.013558        8.684\n",
       "418236     45  2012-10-05    98  ...    2340.01  192.170412        8.667\n",
       "418237     45  2012-10-12    98  ...    3990.54  192.327265        8.667\n",
       "418238     45  2012-10-19    98  ...    1537.49  192.330854        8.667\n",
       "\n",
       "[5 rows x 16 columns]"
      ]
     },
     "execution_count": 94,
     "metadata": {
      "tags": []
     },
     "output_type": "execute_result"
    }
   ],
   "source": [
    "walmart.tail()"
   ]
  },
  {
   "cell_type": "code",
   "execution_count": 0,
   "metadata": {
    "colab": {
     "base_uri": "https://localhost:8080/",
     "height": 408
    },
    "colab_type": "code",
    "id": "0-IE_vw8zStg",
    "outputId": "dcf5486e-5603-4be2-d400-30ff1178cc29"
   },
   "outputs": [
    {
     "name": "stdout",
     "output_type": "stream",
     "text": [
      "<class 'pandas.core.frame.DataFrame'>\n",
      "RangeIndex: 418239 entries, 0 to 418238\n",
      "Data columns (total 16 columns):\n",
      " #   Column        Non-Null Count   Dtype  \n",
      "---  ------        --------------   -----  \n",
      " 0   Store         418239 non-null  int64  \n",
      " 1   Date          418239 non-null  object \n",
      " 2   Dept          418239 non-null  int64  \n",
      " 3   Weekly_Sales  418239 non-null  float64\n",
      " 4   IsHoliday     418239 non-null  bool   \n",
      " 5   Type          418239 non-null  object \n",
      " 6   Size          418239 non-null  int64  \n",
      " 7   Temperature   418239 non-null  float64\n",
      " 8   Fuel_Price    418239 non-null  float64\n",
      " 9   MarkDown1     147484 non-null  float64\n",
      " 10  MarkDown2     108144 non-null  float64\n",
      " 11  MarkDown3     134568 non-null  float64\n",
      " 12  MarkDown4     132315 non-null  float64\n",
      " 13  MarkDown5     148182 non-null  float64\n",
      " 14  CPI           418239 non-null  float64\n",
      " 15  Unemployment  418239 non-null  float64\n",
      "dtypes: bool(1), float64(10), int64(3), object(2)\n",
      "memory usage: 48.3+ MB\n"
     ]
    }
   ],
   "source": [
    "walmart.info()"
   ]
  },
  {
   "cell_type": "markdown",
   "metadata": {
    "colab_type": "text",
    "id": "vtwLZMgM9qP1"
   },
   "source": [
    "В наборе имеется 418239 наблюдений, 16 переменных.\n",
    "\n",
    "Типы переменных:\n",
    "\n",
    " №  Переменная       Тип\n",
    "\n",
    "1.   **Store** - int64  \n",
    "2.   **Date**            object \n",
    "3.   **Dept** - int64  \n",
    "4.  **Weekly_Sales** -    float64\n",
    "5.   **IsHoliday** -      bool   \n",
    "6.   **Type**  -          object \n",
    "7.  **Size**          -  int64  \n",
    "8.   **Temperature**   -  float64\n",
    "9.  **Fuel_Price**     - float64\n",
    "10.  **MarkDown1**    -   float64\n",
    "11.  **MarkDown2**    -   float64\n",
    "12.  **MarkDown3**    -   float64\n",
    "13.  **MarkDown4**   -  float64\n",
    "14.  **MarkDown5**     -  float64\n",
    "15.  **CPI**            - float64\n",
    "16.  **Unemployment**   - float64"
   ]
  },
  {
   "cell_type": "code",
   "execution_count": 0,
   "metadata": {
    "colab": {
     "base_uri": "https://localhost:8080/",
     "height": 309
    },
    "colab_type": "code",
    "id": "pgvRvd8eqxaB",
    "outputId": "1a5ad1cd-b3db-4a8a-c568-64b3dcc9a72a"
   },
   "outputs": [
    {
     "data": {
      "text/html": [
       "<div>\n",
       "<style scoped>\n",
       "    .dataframe tbody tr th:only-of-type {\n",
       "        vertical-align: middle;\n",
       "    }\n",
       "\n",
       "    .dataframe tbody tr th {\n",
       "        vertical-align: top;\n",
       "    }\n",
       "\n",
       "    .dataframe thead th {\n",
       "        text-align: right;\n",
       "    }\n",
       "</style>\n",
       "<table border=\"1\" class=\"dataframe\">\n",
       "  <thead>\n",
       "    <tr style=\"text-align: right;\">\n",
       "      <th></th>\n",
       "      <th>Store</th>\n",
       "      <th>Date</th>\n",
       "      <th>Dept</th>\n",
       "      <th>Weekly_Sales</th>\n",
       "      <th>IsHoliday</th>\n",
       "      <th>Type</th>\n",
       "      <th>Size</th>\n",
       "      <th>Temperature</th>\n",
       "      <th>Fuel_Price</th>\n",
       "      <th>MarkDown1</th>\n",
       "      <th>MarkDown2</th>\n",
       "      <th>MarkDown3</th>\n",
       "      <th>MarkDown4</th>\n",
       "      <th>MarkDown5</th>\n",
       "      <th>CPI</th>\n",
       "      <th>Unemployment</th>\n",
       "    </tr>\n",
       "  </thead>\n",
       "  <tbody>\n",
       "    <tr>\n",
       "      <th>0</th>\n",
       "      <td>1</td>\n",
       "      <td>2010-02-05</td>\n",
       "      <td>1</td>\n",
       "      <td>24924.50</td>\n",
       "      <td>False</td>\n",
       "      <td>A</td>\n",
       "      <td>151315</td>\n",
       "      <td>42.31</td>\n",
       "      <td>2.572</td>\n",
       "      <td>NaN</td>\n",
       "      <td>NaN</td>\n",
       "      <td>NaN</td>\n",
       "      <td>NaN</td>\n",
       "      <td>NaN</td>\n",
       "      <td>211.096358</td>\n",
       "      <td>8.106</td>\n",
       "    </tr>\n",
       "    <tr>\n",
       "      <th>1</th>\n",
       "      <td>1</td>\n",
       "      <td>2010-02-12</td>\n",
       "      <td>1</td>\n",
       "      <td>46039.49</td>\n",
       "      <td>True</td>\n",
       "      <td>A</td>\n",
       "      <td>151315</td>\n",
       "      <td>38.51</td>\n",
       "      <td>2.548</td>\n",
       "      <td>NaN</td>\n",
       "      <td>NaN</td>\n",
       "      <td>NaN</td>\n",
       "      <td>NaN</td>\n",
       "      <td>NaN</td>\n",
       "      <td>211.242170</td>\n",
       "      <td>8.106</td>\n",
       "    </tr>\n",
       "    <tr>\n",
       "      <th>2</th>\n",
       "      <td>1</td>\n",
       "      <td>2010-02-19</td>\n",
       "      <td>1</td>\n",
       "      <td>41595.55</td>\n",
       "      <td>False</td>\n",
       "      <td>A</td>\n",
       "      <td>151315</td>\n",
       "      <td>39.93</td>\n",
       "      <td>2.514</td>\n",
       "      <td>NaN</td>\n",
       "      <td>NaN</td>\n",
       "      <td>NaN</td>\n",
       "      <td>NaN</td>\n",
       "      <td>NaN</td>\n",
       "      <td>211.289143</td>\n",
       "      <td>8.106</td>\n",
       "    </tr>\n",
       "    <tr>\n",
       "      <th>3</th>\n",
       "      <td>1</td>\n",
       "      <td>2010-02-26</td>\n",
       "      <td>1</td>\n",
       "      <td>19403.54</td>\n",
       "      <td>False</td>\n",
       "      <td>A</td>\n",
       "      <td>151315</td>\n",
       "      <td>46.63</td>\n",
       "      <td>2.561</td>\n",
       "      <td>NaN</td>\n",
       "      <td>NaN</td>\n",
       "      <td>NaN</td>\n",
       "      <td>NaN</td>\n",
       "      <td>NaN</td>\n",
       "      <td>211.319643</td>\n",
       "      <td>8.106</td>\n",
       "    </tr>\n",
       "    <tr>\n",
       "      <th>4</th>\n",
       "      <td>1</td>\n",
       "      <td>2010-03-05</td>\n",
       "      <td>1</td>\n",
       "      <td>21827.90</td>\n",
       "      <td>False</td>\n",
       "      <td>A</td>\n",
       "      <td>151315</td>\n",
       "      <td>46.50</td>\n",
       "      <td>2.625</td>\n",
       "      <td>NaN</td>\n",
       "      <td>NaN</td>\n",
       "      <td>NaN</td>\n",
       "      <td>NaN</td>\n",
       "      <td>NaN</td>\n",
       "      <td>211.350143</td>\n",
       "      <td>8.106</td>\n",
       "    </tr>\n",
       "  </tbody>\n",
       "</table>\n",
       "</div>"
      ],
      "text/plain": [
       "   Store       Date  Dept  ...  MarkDown5         CPI Unemployment\n",
       "0      1 2010-02-05     1  ...        NaN  211.096358        8.106\n",
       "1      1 2010-02-12     1  ...        NaN  211.242170        8.106\n",
       "2      1 2010-02-19     1  ...        NaN  211.289143        8.106\n",
       "3      1 2010-02-26     1  ...        NaN  211.319643        8.106\n",
       "4      1 2010-03-05     1  ...        NaN  211.350143        8.106\n",
       "\n",
       "[5 rows x 16 columns]"
      ]
     },
     "execution_count": 97,
     "metadata": {
      "tags": []
     },
     "output_type": "execute_result"
    }
   ],
   "source": [
    "walmart['Date'] = pd.to_datetime(walmart['Date'], format = '%Y-%m-%d')\n",
    "walmart.head()"
   ]
  },
  {
   "cell_type": "code",
   "execution_count": 0,
   "metadata": {
    "colab": {
     "base_uri": "https://localhost:8080/",
     "height": 289
    },
    "colab_type": "code",
    "id": "hK7VAy4i-DL5",
    "outputId": "ed4b9668-ba69-4138-8781-39e0b1fb897d"
   },
   "outputs": [
    {
     "name": "stdout",
     "output_type": "stream",
     "text": [
      "Store :  0.0 % of NaN\n",
      "Date :  0.0 % of NaN\n",
      "Dept :  0.0 % of NaN\n",
      "Weekly_Sales :  0.0 % of NaN\n",
      "IsHoliday :  0.0 % of NaN\n",
      "Type :  0.0 % of NaN\n",
      "Size :  0.0 % of NaN\n",
      "Temperature :  0.0 % of NaN\n",
      "Fuel_Price :  0.0 % of NaN\n",
      "MarkDown1 :  64.73690880094874 % of NaN\n",
      "MarkDown2 :  74.14301392266145 % of NaN\n",
      "MarkDown3 :  67.82509522067525 % of NaN\n",
      "MarkDown4 :  68.3637824306198 % of NaN\n",
      "MarkDown5 :  64.57001857789446 % of NaN\n",
      "CPI :  0.0 % of NaN\n",
      "Unemployment :  0.0 % of NaN\n"
     ]
    }
   ],
   "source": [
    "wal = walmart\n",
    "for column in walmart.columns:\n",
    "  nan_percentage = walmart[column].isnull().sum()/ len(walmart[column]) * 100\n",
    "  print(column + \" : \", nan_percentage, \"% of NaN\")\n",
    "  if(nan_percentage > 60):\n",
    "    wal = wal.drop([column], axis=1)"
   ]
  },
  {
   "cell_type": "code",
   "execution_count": 0,
   "metadata": {
    "colab": {
     "base_uri": "https://localhost:8080/",
     "height": 204
    },
    "colab_type": "code",
    "id": "tATuJ4nXHvQC",
    "outputId": "452e148d-076f-4ee5-b8f6-ef1ec7e49408"
   },
   "outputs": [
    {
     "data": {
      "text/html": [
       "<div>\n",
       "<style scoped>\n",
       "    .dataframe tbody tr th:only-of-type {\n",
       "        vertical-align: middle;\n",
       "    }\n",
       "\n",
       "    .dataframe tbody tr th {\n",
       "        vertical-align: top;\n",
       "    }\n",
       "\n",
       "    .dataframe thead th {\n",
       "        text-align: right;\n",
       "    }\n",
       "</style>\n",
       "<table border=\"1\" class=\"dataframe\">\n",
       "  <thead>\n",
       "    <tr style=\"text-align: right;\">\n",
       "      <th></th>\n",
       "      <th>Store</th>\n",
       "      <th>Date</th>\n",
       "      <th>Dept</th>\n",
       "      <th>Weekly_Sales</th>\n",
       "      <th>IsHoliday</th>\n",
       "      <th>Type</th>\n",
       "      <th>Size</th>\n",
       "      <th>Temperature</th>\n",
       "      <th>Fuel_Price</th>\n",
       "      <th>CPI</th>\n",
       "      <th>Unemployment</th>\n",
       "    </tr>\n",
       "  </thead>\n",
       "  <tbody>\n",
       "    <tr>\n",
       "      <th>0</th>\n",
       "      <td>1</td>\n",
       "      <td>2010-02-05</td>\n",
       "      <td>1</td>\n",
       "      <td>24924.50</td>\n",
       "      <td>False</td>\n",
       "      <td>A</td>\n",
       "      <td>151315</td>\n",
       "      <td>42.31</td>\n",
       "      <td>2.572</td>\n",
       "      <td>211.096358</td>\n",
       "      <td>8.106</td>\n",
       "    </tr>\n",
       "    <tr>\n",
       "      <th>1</th>\n",
       "      <td>1</td>\n",
       "      <td>2010-02-12</td>\n",
       "      <td>1</td>\n",
       "      <td>46039.49</td>\n",
       "      <td>True</td>\n",
       "      <td>A</td>\n",
       "      <td>151315</td>\n",
       "      <td>38.51</td>\n",
       "      <td>2.548</td>\n",
       "      <td>211.242170</td>\n",
       "      <td>8.106</td>\n",
       "    </tr>\n",
       "    <tr>\n",
       "      <th>2</th>\n",
       "      <td>1</td>\n",
       "      <td>2010-02-19</td>\n",
       "      <td>1</td>\n",
       "      <td>41595.55</td>\n",
       "      <td>False</td>\n",
       "      <td>A</td>\n",
       "      <td>151315</td>\n",
       "      <td>39.93</td>\n",
       "      <td>2.514</td>\n",
       "      <td>211.289143</td>\n",
       "      <td>8.106</td>\n",
       "    </tr>\n",
       "    <tr>\n",
       "      <th>3</th>\n",
       "      <td>1</td>\n",
       "      <td>2010-02-26</td>\n",
       "      <td>1</td>\n",
       "      <td>19403.54</td>\n",
       "      <td>False</td>\n",
       "      <td>A</td>\n",
       "      <td>151315</td>\n",
       "      <td>46.63</td>\n",
       "      <td>2.561</td>\n",
       "      <td>211.319643</td>\n",
       "      <td>8.106</td>\n",
       "    </tr>\n",
       "    <tr>\n",
       "      <th>4</th>\n",
       "      <td>1</td>\n",
       "      <td>2010-03-05</td>\n",
       "      <td>1</td>\n",
       "      <td>21827.90</td>\n",
       "      <td>False</td>\n",
       "      <td>A</td>\n",
       "      <td>151315</td>\n",
       "      <td>46.50</td>\n",
       "      <td>2.625</td>\n",
       "      <td>211.350143</td>\n",
       "      <td>8.106</td>\n",
       "    </tr>\n",
       "  </tbody>\n",
       "</table>\n",
       "</div>"
      ],
      "text/plain": [
       "   Store       Date  Dept  ...  Fuel_Price         CPI Unemployment\n",
       "0      1 2010-02-05     1  ...       2.572  211.096358        8.106\n",
       "1      1 2010-02-12     1  ...       2.548  211.242170        8.106\n",
       "2      1 2010-02-19     1  ...       2.514  211.289143        8.106\n",
       "3      1 2010-02-26     1  ...       2.561  211.319643        8.106\n",
       "4      1 2010-03-05     1  ...       2.625  211.350143        8.106\n",
       "\n",
       "[5 rows x 11 columns]"
      ]
     },
     "execution_count": 108,
     "metadata": {
      "tags": []
     },
     "output_type": "execute_result"
    }
   ],
   "source": [
    "wal.head()"
   ]
  },
  {
   "cell_type": "code",
   "execution_count": 0,
   "metadata": {
    "colab": {
     "base_uri": "https://localhost:8080/",
     "height": 68
    },
    "colab_type": "code",
    "id": "81st3LVEIkUK",
    "outputId": "756c10eb-57ab-4ec6-b33b-ed8a38968ea6"
   },
   "outputs": [
    {
     "name": "stdout",
     "output_type": "stream",
     "text": [
      "Num of stores: 45\n",
      "Num of depts: 81\n",
      "From 2010-02-05 00:00:00 to 2012-10-19 00:00:00\n"
     ]
    }
   ],
   "source": [
    "print(\"Num of stores:\", wal['Store'].nunique()) # Количество магазинов\n",
    "print(\"Num of depts:\", wal[\"Dept\"].nunique()) # Количество департаментов\n",
    "print(\"From\", wal['Date'].min(), \"to\", wal[\"Date\"].max()) # период"
   ]
  },
  {
   "cell_type": "code",
   "execution_count": 0,
   "metadata": {
    "colab": {
     "base_uri": "https://localhost:8080/",
     "height": 277
    },
    "colab_type": "code",
    "id": "ANLXlQrrJZ1E",
    "outputId": "ea703501-f49a-42ca-ebab-eee34fb79634"
   },
   "outputs": [
    {
     "data": {
      "image/png": "[encoded data removed]",
      "text/plain": [
       "<Figure size 2160x504 with 1 Axes>"
      ]
     },
     "metadata": {
      "needs_background": "light",
      "tags": []
     },
     "output_type": "display_data"
    }
   ],
   "source": [
    "plt.figure(figsize=(30, 7))\n",
    "plt.plot(wal[['Weekly_Sales', 'Date']].groupby('Date').sum())\n",
    "plt.title('Динамика цен')\n",
    "plt.xlabel('Дата')\n",
    "plt.ylabel('Цена')\n",
    "plt.xticks(rotation=90)\n",
    "plt.show()"
   ]
  },
  {
   "cell_type": "code",
   "execution_count": 0,
   "metadata": {
    "colab": {
     "base_uri": "https://localhost:8080/",
     "height": 297
    },
    "colab_type": "code",
    "id": "_03KN4kSSkXv",
    "outputId": "b88aaf14-91ae-4db1-f0f2-5d5a721c56bd"
   },
   "outputs": [
    {
     "data": {
      "text/html": [
       "<div>\n",
       "<style scoped>\n",
       "    .dataframe tbody tr th:only-of-type {\n",
       "        vertical-align: middle;\n",
       "    }\n",
       "\n",
       "    .dataframe tbody tr th {\n",
       "        vertical-align: top;\n",
       "    }\n",
       "\n",
       "    .dataframe thead th {\n",
       "        text-align: right;\n",
       "    }\n",
       "</style>\n",
       "<table border=\"1\" class=\"dataframe\">\n",
       "  <thead>\n",
       "    <tr style=\"text-align: right;\">\n",
       "      <th></th>\n",
       "      <th>Store</th>\n",
       "      <th>Dept</th>\n",
       "      <th>Weekly_Sales</th>\n",
       "      <th>Size</th>\n",
       "      <th>Temperature</th>\n",
       "      <th>Fuel_Price</th>\n",
       "      <th>CPI</th>\n",
       "      <th>Unemployment</th>\n",
       "    </tr>\n",
       "  </thead>\n",
       "  <tbody>\n",
       "    <tr>\n",
       "      <th>Store</th>\n",
       "      <td>1.000000</td>\n",
       "      <td>0.024170</td>\n",
       "      <td>-0.085175</td>\n",
       "      <td>-0.182654</td>\n",
       "      <td>-0.049933</td>\n",
       "      <td>0.064666</td>\n",
       "      <td>-0.211129</td>\n",
       "      <td>0.208524</td>\n",
       "    </tr>\n",
       "    <tr>\n",
       "      <th>Dept</th>\n",
       "      <td>0.024170</td>\n",
       "      <td>1.000000</td>\n",
       "      <td>0.148345</td>\n",
       "      <td>-0.003026</td>\n",
       "      <td>0.004509</td>\n",
       "      <td>0.003417</td>\n",
       "      <td>-0.007544</td>\n",
       "      <td>0.007992</td>\n",
       "    </tr>\n",
       "    <tr>\n",
       "      <th>Weekly_Sales</th>\n",
       "      <td>-0.085175</td>\n",
       "      <td>0.148345</td>\n",
       "      <td>1.000000</td>\n",
       "      <td>0.243733</td>\n",
       "      <td>-0.002197</td>\n",
       "      <td>0.000385</td>\n",
       "      <td>-0.020791</td>\n",
       "      <td>-0.026114</td>\n",
       "    </tr>\n",
       "    <tr>\n",
       "      <th>Size</th>\n",
       "      <td>-0.182654</td>\n",
       "      <td>-0.003026</td>\n",
       "      <td>0.243733</td>\n",
       "      <td>1.000000</td>\n",
       "      <td>-0.057979</td>\n",
       "      <td>0.003803</td>\n",
       "      <td>-0.003249</td>\n",
       "      <td>-0.068803</td>\n",
       "    </tr>\n",
       "    <tr>\n",
       "      <th>Temperature</th>\n",
       "      <td>-0.049933</td>\n",
       "      <td>0.004509</td>\n",
       "      <td>-0.002197</td>\n",
       "      <td>-0.057979</td>\n",
       "      <td>1.000000</td>\n",
       "      <td>0.144837</td>\n",
       "      <td>0.181292</td>\n",
       "      <td>0.097301</td>\n",
       "    </tr>\n",
       "    <tr>\n",
       "      <th>Fuel_Price</th>\n",
       "      <td>0.064666</td>\n",
       "      <td>0.003417</td>\n",
       "      <td>0.000385</td>\n",
       "      <td>0.003803</td>\n",
       "      <td>0.144837</td>\n",
       "      <td>1.000000</td>\n",
       "      <td>-0.163226</td>\n",
       "      <td>-0.032461</td>\n",
       "    </tr>\n",
       "    <tr>\n",
       "      <th>CPI</th>\n",
       "      <td>-0.211129</td>\n",
       "      <td>-0.007544</td>\n",
       "      <td>-0.020791</td>\n",
       "      <td>-0.003249</td>\n",
       "      <td>0.181292</td>\n",
       "      <td>-0.163226</td>\n",
       "      <td>1.000000</td>\n",
       "      <td>-0.299723</td>\n",
       "    </tr>\n",
       "    <tr>\n",
       "      <th>Unemployment</th>\n",
       "      <td>0.208524</td>\n",
       "      <td>0.007992</td>\n",
       "      <td>-0.026114</td>\n",
       "      <td>-0.068803</td>\n",
       "      <td>0.097301</td>\n",
       "      <td>-0.032461</td>\n",
       "      <td>-0.299723</td>\n",
       "      <td>1.000000</td>\n",
       "    </tr>\n",
       "  </tbody>\n",
       "</table>\n",
       "</div>"
      ],
      "text/plain": [
       "                 Store      Dept  ...       CPI  Unemployment\n",
       "Store         1.000000  0.024170  ... -0.211129      0.208524\n",
       "Dept          0.024170  1.000000  ... -0.007544      0.007992\n",
       "Weekly_Sales -0.085175  0.148345  ... -0.020791     -0.026114\n",
       "Size         -0.182654 -0.003026  ... -0.003249     -0.068803\n",
       "Temperature  -0.049933  0.004509  ...  0.181292      0.097301\n",
       "Fuel_Price    0.064666  0.003417  ... -0.163226     -0.032461\n",
       "CPI          -0.211129 -0.007544  ...  1.000000     -0.299723\n",
       "Unemployment  0.208524  0.007992  ... -0.299723      1.000000\n",
       "\n",
       "[8 rows x 8 columns]"
      ]
     },
     "execution_count": 111,
     "metadata": {
      "tags": []
     },
     "output_type": "execute_result"
    }
   ],
   "source": [
    "wal.drop(['IsHoliday', 'Type'], axis=1).corr()"
   ]
  },
  {
   "cell_type": "code",
   "execution_count": 0,
   "metadata": {
    "colab": {
     "base_uri": "https://localhost:8080/",
     "height": 559
    },
    "colab_type": "code",
    "id": "t4azwC2oSkT9",
    "outputId": "e01cd0fd-c2c8-400d-f192-d905a0b730c5"
   },
   "outputs": [
    {
     "name": "stdout",
     "output_type": "stream",
     "text": [
      "Index(['Date', 'Store', 'Weekly_Sales_x', 'Weekly_Sales_y'], dtype='object')\n"
     ]
    },
    {
     "data": {
      "text/html": [
       "<html>\n",
       "<head><meta charset=\"utf-8\" /></head>\n",
       "<body>\n",
       "    <div>\n",
       "            <script src=\"https://cdnjs.cloudflare.com/ajax/libs/mathjax/2.7.5/MathJax.js?config=TeX-AMS-MML_SVG\"></script><script type=\"text/javascript\">if (window.MathJax) {MathJax.Hub.Config({SVG: {font: \"STIX-Web\"}});}</script>\n",
       "                <script type=\"text/javascript\">window.PlotlyConfig = {MathJaxConfig: 'local'};</script>\n",
       "        <script src=\"https://cdn.plot.ly/plotly-latest.min.js\"></script>    \n",
       "            <div id=\"9e48d796-297e-46a2-a397-f635fcb75bae\" class=\"plotly-graph-div\" style=\"height:525px; width:100%;\"></div>\n",
       "            <script type=\"text/javascript\">\n",
       "                \n",
       "                    window.PLOTLYENV=window.PLOTLYENV || {};\n",
       "                    \n",
       "                if (document.getElementById(\"9e48d796-297e-46a2-a397-f635fcb75bae\")) {\n",
       "                    Plotly.newPlot(\n",
       "                        '9e48d796-297e-46a2-a397-f635fcb75bae',\n",
       "                        [{\"hoverlabel\": {\"namelength\": 0}, \"hovertemplate\": \"Stores=2<br>Date=%{x}<br>Sales=%{y}\", \"legendgroup\": \"Stores=2\", \"line\": {\"color\": \"#636efa\", \"dash\": \"solid\"}, \"mode\": \"lines\", \"name\": \"Stores=2\", \"showlegend\": true, \"type\": \"scatter\", \"x\": [\"2010-02-05T00:00:00\", \"2010-02-12T00:00:00\", \"2010-02-19T00:00:00\", \"2010-02-26T00:00:00\", \"2010-03-05T00:00:00\", \"2010-03-12T00:00:00\", \"2010-03-19T00:00:00\", \"2010-03-26T00:00:00\", \"2010-04-02T00:00:00\", \"2010-04-09T00:00:00\", \"2010-04-16T00:00:00\", \"2010-04-23T00:00:00\", \"2010-04-30T00:00:00\", \"2010-05-07T00:00:00\", \"2010-05-14T00:00:00\", \"2010-05-21T00:00:00\", \"2010-05-28T00:00:00\", \"2010-06-04T00:00:00\", \"2010-06-11T00:00:00\", \"2010-06-18T00:00:00\", \"2010-06-25T00:00:00\", \"2010-07-02T00:00:00\", \"2010-07-09T00:00:00\", \"2010-07-16T00:00:00\", \"2010-07-23T00:00:00\", \"2010-07-30T00:00:00\", \"2010-08-06T00:00:00\", \"2010-08-13T00:00:00\", \"2010-08-20T00:00:00\", \"2010-08-27T00:00:00\", \"2010-09-03T00:00:00\", \"2010-09-10T00:00:00\", \"2010-09-17T00:00:00\", \"2010-09-24T00:00:00\", \"2010-10-01T00:00:00\", \"2010-10-08T00:00:00\", \"2010-10-15T00:00:00\", \"2010-10-22T00:00:00\", \"2010-10-29T00:00:00\", \"2010-11-05T00:00:00\", \"2010-11-12T00:00:00\", \"2010-11-19T00:00:00\", \"2010-11-26T00:00:00\", \"2010-12-03T00:00:00\", \"2010-12-10T00:00:00\", \"2010-12-17T00:00:00\", \"2010-12-24T00:00:00\", \"2010-12-31T00:00:00\", \"2011-01-07T00:00:00\", \"2011-01-14T00:00:00\", \"2011-01-21T00:00:00\", \"2011-01-28T00:00:00\", \"2011-02-04T00:00:00\", \"2011-02-11T00:00:00\", \"2011-02-18T00:00:00\", \"2011-02-25T00:00:00\", \"2011-03-04T00:00:00\", \"2011-03-11T00:00:00\", \"2011-03-18T00:00:00\", \"2011-03-25T00:00:00\", \"2011-04-01T00:00:00\", \"2011-04-08T00:00:00\", \"2011-04-15T00:00:00\", \"2011-04-22T00:00:00\", \"2011-04-29T00:00:00\", \"2011-05-06T00:00:00\", \"2011-05-13T00:00:00\", \"2011-05-20T00:00:00\", \"2011-05-27T00:00:00\", \"2011-06-03T00:00:00\", \"2011-06-10T00:00:00\", \"2011-06-17T00:00:00\", \"2011-06-24T00:00:00\", \"2011-07-01T00:00:00\", \"2011-07-08T00:00:00\", \"2011-07-15T00:00:00\", \"2011-07-22T00:00:00\", \"2011-07-29T00:00:00\", \"2011-08-05T00:00:00\", \"2011-08-12T00:00:00\", \"2011-08-19T00:00:00\", \"2011-08-26T00:00:00\", \"2011-09-02T00:00:00\", \"2011-09-09T00:00:00\", \"2011-09-16T00:00:00\", \"2011-09-23T00:00:00\", \"2011-09-30T00:00:00\", \"2011-10-07T00:00:00\", \"2011-10-14T00:00:00\", \"2011-10-21T00:00:00\", \"2011-10-28T00:00:00\", \"2011-11-04T00:00:00\", \"2011-11-11T00:00:00\", \"2011-11-18T00:00:00\", \"2011-11-25T00:00:00\", \"2011-12-02T00:00:00\", \"2011-12-09T00:00:00\", \"2011-12-16T00:00:00\", \"2011-12-23T00:00:00\", \"2011-12-30T00:00:00\", \"2012-01-06T00:00:00\", \"2012-01-13T00:00:00\", \"2012-01-20T00:00:00\", \"2012-01-27T00:00:00\", \"2012-02-03T00:00:00\", \"2012-02-10T00:00:00\", \"2012-02-17T00:00:00\", \"2012-02-24T00:00:00\", \"2012-03-02T00:00:00\", \"2012-03-09T00:00:00\", \"2012-03-16T00:00:00\", \"2012-03-23T00:00:00\", \"2012-03-30T00:00:00\", \"2012-04-06T00:00:00\", \"2012-04-13T00:00:00\", \"2012-04-20T00:00:00\", \"2012-04-27T00:00:00\", \"2012-05-04T00:00:00\", \"2012-05-11T00:00:00\", \"2012-05-18T00:00:00\", \"2012-05-25T00:00:00\", \"2012-06-01T00:00:00\", \"2012-06-08T00:00:00\", \"2012-06-15T00:00:00\", \"2012-06-22T00:00:00\", \"2012-06-29T00:00:00\", \"2012-07-06T00:00:00\", \"2012-07-13T00:00:00\", \"2012-07-20T00:00:00\", \"2012-07-27T00:00:00\", \"2012-08-03T00:00:00\", \"2012-08-10T00:00:00\", \"2012-08-17T00:00:00\", \"2012-08-24T00:00:00\", \"2012-08-31T00:00:00\", \"2012-09-07T00:00:00\", \"2012-09-14T00:00:00\", \"2012-09-21T00:00:00\", \"2012-09-28T00:00:00\", \"2012-10-05T00:00:00\", \"2012-10-12T00:00:00\", \"2012-10-19T00:00:00\"], \"xaxis\": \"x\", \"y\": [2136989.46, 2137809.499999999, 2124451.5400000005, 1865097.27, 1991013.1300000001, 1990483.7799999998, 1946070.1000000006, 1750197.81, 2066187.7199999995, 1954689.2100000002, 1874957.9400000002, 1821990.93, 1802447.53, 2042581.7100000002, 1880752.3599999996, 1896937.0999999994, 1957113.8899999997, 2102539.9299999997, 2025538.76, 2001636.96, 1939927.0899999999, 2003940.6400000006, 1880902.6199999994, 1845879.7900000003, 1781717.7100000002, 1804246.1600000004, 1991909.9799999995, 1895601.0499999996, 1964335.23, 1863840.4900000005, 1904608.0899999999, 1839128.8299999998, 1793903.5999999999, 1724557.2200000002, 1827440.4299999995, 1849921.4400000002, 1794355.4899999995, 1737947.6399999997, 1802755.1099999996, 1939061.4100000001, 1916812.74, 1956739.1700000004, 2658725.29, 2015781.27, 2378726.55, 2609166.75, 3436007.6799999997, 1750434.5499999998, 1758050.7899999996, 1744193.5799999996, 1751384.9000000001, 1695371.6800000004, 1929346.2299999997, 2168041.61, 2080884.82, 1833511.0799999998, 1981607.7800000005, 1879107.3100000003, 1902557.6600000001, 1766162.0499999998, 1800171.36, 1847552.61, 1856467.8399999999, 1886339.5999999996, 1745545.28, 1837743.6000000008, 1838513.0699999996, 1688281.8599999999, 1797732.5599999998, 1933756.2100000004, 1929153.1600000001, 1953771.9899999995, 1790925.8000000005, 1866243.0000000002, 1853161.99, 1785187.2900000003, 1743816.4100000001, 1680693.0600000005, 1876704.2600000005, 1812768.2600000005, 1844094.5899999994, 1821139.9099999997, 1809119.6999999997, 1748000.6500000001, 1691439.5200000003, 1669299.78, 1650394.4400000002, 1837553.43, 1743882.19, 1834680.2500000002, 1769296.2500000005, 1959707.9000000006, 1920725.1499999992, 1902762.5000000002, 2614202.3000000003, 1954951.9999999998, 2290345.3200000003, 2432736.5200000005, 3224369.8000000007, 1874226.52, 1799520.1400000001, 1744725.4800000002, 1711769.11, 1660906.14, 1935299.9399999997, 2103322.68, 2196688.4599999995, 1861802.7000000004, 1952555.66, 1937628.2599999998, 1976082.1300000001, 1790439.1600000001, 1857480.8399999996, 2129035.91, 1935869.1, 1847344.4500000002, 1764133.0899999996, 1923957.0900000003, 1917520.99, 2000940.6699999995, 1912791.0899999999, 1910092.3700000003, 2010216.49, 1962924.2999999998, 1887733.2099999993, 1881046.1200000008, 2041507.4000000004, 1830075.1299999997, 1819510.46, 1757917.88, 1946104.6400000008, 1866719.9599999997, 1928016.0100000005, 1876788.15, 1947083.3000000003, 1898777.07, 1814806.6300000001, 1829415.6700000006, 1746470.5600000003, 1998321.0400000005, 1900684.66, 1847990.4100000008], \"yaxis\": \"y\"}, {\"hoverlabel\": {\"namelength\": 0}, \"hovertemplate\": \"Stores=4<br>Date=%{x}<br>Sales=%{y}\", \"legendgroup\": \"Stores=4\", \"line\": {\"color\": \"#EF553B\", \"dash\": \"solid\"}, \"mode\": \"lines\", \"name\": \"Stores=4\", \"showlegend\": true, \"type\": \"scatter\", \"x\": [\"2010-02-05T00:00:00\", \"2010-02-12T00:00:00\", \"2010-02-19T00:00:00\", \"2010-02-26T00:00:00\", \"2010-03-05T00:00:00\", \"2010-03-12T00:00:00\", \"2010-03-19T00:00:00\", \"2010-03-26T00:00:00\", \"2010-04-02T00:00:00\", \"2010-04-09T00:00:00\", \"2010-04-16T00:00:00\", \"2010-04-23T00:00:00\", \"2010-04-30T00:00:00\", \"2010-05-07T00:00:00\", \"2010-05-14T00:00:00\", \"2010-05-21T00:00:00\", \"2010-05-28T00:00:00\", \"2010-06-04T00:00:00\", \"2010-06-11T00:00:00\", \"2010-06-18T00:00:00\", \"2010-06-25T00:00:00\", \"2010-07-02T00:00:00\", \"2010-07-09T00:00:00\", \"2010-07-16T00:00:00\", \"2010-07-23T00:00:00\", \"2010-07-30T00:00:00\", \"2010-08-06T00:00:00\", \"2010-08-13T00:00:00\", \"2010-08-20T00:00:00\", \"2010-08-27T00:00:00\", \"2010-09-03T00:00:00\", \"2010-09-10T00:00:00\", \"2010-09-17T00:00:00\", \"2010-09-24T00:00:00\", \"2010-10-01T00:00:00\", \"2010-10-08T00:00:00\", \"2010-10-15T00:00:00\", \"2010-10-22T00:00:00\", \"2010-10-29T00:00:00\", \"2010-11-05T00:00:00\", \"2010-11-12T00:00:00\", \"2010-11-19T00:00:00\", \"2010-11-26T00:00:00\", \"2010-12-03T00:00:00\", \"2010-12-10T00:00:00\", \"2010-12-17T00:00:00\", \"2010-12-24T00:00:00\", \"2010-12-31T00:00:00\", \"2011-01-07T00:00:00\", \"2011-01-14T00:00:00\", \"2011-01-21T00:00:00\", \"2011-01-28T00:00:00\", \"2011-02-04T00:00:00\", \"2011-02-11T00:00:00\", \"2011-02-18T00:00:00\", \"2011-02-25T00:00:00\", \"2011-03-04T00:00:00\", \"2011-03-11T00:00:00\", \"2011-03-18T00:00:00\", \"2011-03-25T00:00:00\", \"2011-04-01T00:00:00\", \"2011-04-08T00:00:00\", \"2011-04-15T00:00:00\", \"2011-04-22T00:00:00\", \"2011-04-29T00:00:00\", \"2011-05-06T00:00:00\", \"2011-05-13T00:00:00\", \"2011-05-20T00:00:00\", \"2011-05-27T00:00:00\", \"2011-06-03T00:00:00\", \"2011-06-10T00:00:00\", \"2011-06-17T00:00:00\", \"2011-06-24T00:00:00\", \"2011-07-01T00:00:00\", \"2011-07-08T00:00:00\", \"2011-07-15T00:00:00\", \"2011-07-22T00:00:00\", \"2011-07-29T00:00:00\", \"2011-08-05T00:00:00\", \"2011-08-12T00:00:00\", \"2011-08-19T00:00:00\", \"2011-08-26T00:00:00\", \"2011-09-02T00:00:00\", \"2011-09-09T00:00:00\", \"2011-09-16T00:00:00\", \"2011-09-23T00:00:00\", \"2011-09-30T00:00:00\", \"2011-10-07T00:00:00\", \"2011-10-14T00:00:00\", \"2011-10-21T00:00:00\", \"2011-10-28T00:00:00\", \"2011-11-04T00:00:00\", \"2011-11-11T00:00:00\", \"2011-11-18T00:00:00\", \"2011-11-25T00:00:00\", \"2011-12-02T00:00:00\", \"2011-12-09T00:00:00\", \"2011-12-16T00:00:00\", \"2011-12-23T00:00:00\", \"2011-12-30T00:00:00\", \"2012-01-06T00:00:00\", \"2012-01-13T00:00:00\", \"2012-01-20T00:00:00\", \"2012-01-27T00:00:00\", \"2012-02-03T00:00:00\", \"2012-02-10T00:00:00\", \"2012-02-17T00:00:00\", \"2012-02-24T00:00:00\", \"2012-03-02T00:00:00\", \"2012-03-09T00:00:00\", \"2012-03-16T00:00:00\", \"2012-03-23T00:00:00\", \"2012-03-30T00:00:00\", \"2012-04-06T00:00:00\", \"2012-04-13T00:00:00\", \"2012-04-20T00:00:00\", \"2012-04-27T00:00:00\", \"2012-05-04T00:00:00\", \"2012-05-11T00:00:00\", \"2012-05-18T00:00:00\", \"2012-05-25T00:00:00\", \"2012-06-01T00:00:00\", \"2012-06-08T00:00:00\", \"2012-06-15T00:00:00\", \"2012-06-22T00:00:00\", \"2012-06-29T00:00:00\", \"2012-07-06T00:00:00\", \"2012-07-13T00:00:00\", \"2012-07-20T00:00:00\", \"2012-07-27T00:00:00\", \"2012-08-03T00:00:00\", \"2012-08-10T00:00:00\", \"2012-08-17T00:00:00\", \"2012-08-24T00:00:00\", \"2012-08-31T00:00:00\", \"2012-09-07T00:00:00\", \"2012-09-14T00:00:00\", \"2012-09-21T00:00:00\", \"2012-09-28T00:00:00\", \"2012-10-05T00:00:00\", \"2012-10-12T00:00:00\", \"2012-10-19T00:00:00\"], \"xaxis\": \"x\", \"y\": [2135143.87, 2188307.39, 2049860.259999999, 1925728.84, 1971057.4400000004, 1894324.09, 1897429.3599999999, 1762539.2999999998, 1979247.12, 1818452.72, 1851519.69, 1802677.9000000004, 1817273.28, 2000626.1400000001, 1875597.28, 1903752.6, 1857533.7000000002, 1903290.5800000003, 1870619.230000001, 1929736.35, 1846651.9499999997, 1881337.2100000002, 1812208.2199999997, 1898427.6600000001, 1848426.7800000003, 1796637.6100000006, 1907638.58, 2007038.7499999995, 1997181.0899999994, 1848403.92, 1935857.58, 1865820.8100000003, 1899959.6100000008, 1810684.6800000002, 1842821.0199999998, 1951494.850000001, 1867345.0900000003, 1927610.0599999998, 1933333.0000000002, 2013115.7900000003, 1999794.2600000005, 2097809.4, 2789469.45, 2102530.1699999995, 2302503.3000000003, 2740057.1400000006, 3526713.3900000006, 1794868.74, 1862476.27, 1865502.4600000002, 1886393.9400000004, 1814240.8499999999, 2119086.0400000005, 2187847.29, 2316495.56, 2078094.69, 2103455.75, 2039818.4100000008, 2116475.38, 1944164.3200000003, 1900246.4700000002, 2074953.4600000002, 1960587.76, 2220600.76, 1878167.4399999997, 2063682.7599999995, 2002362.37, 2015563.48, 1986597.95, 2065377.1500000001, 2073951.3800000001, 2141210.6199999996, 2008344.9200000004, 2051533.5300000005, 2066541.8600000003, 2049046.9500000007, 2036231.3900000008, 1989674.0699999998, 2160057.389999999, 2105668.7399999998, 2232892.1000000006, 1988490.2100000004, 2078420.31, 2093139.0100000002, 2075577.3299999998, 2031406.41, 1929486.63, 2166737.6499999994, 2074548.8500000003, 2207742.1300000004, 2151659.59, 2281217.3100000005, 2203028.96, 2243946.5899999994, 3004702.330000001, 2180999.26, 2508955.2399999993, 2771397.17, 3676388.9800000004, 2007105.8600000008, 2047766.0699999996, 1941676.6099999999, 2005097.76, 1928720.5100000002, 2173373.91, 2374660.64, 2427640.1700000004, 2226662.17, 2206319.9000000004, 2202100.8099999996, 2214967.4400000004, 2091592.5399999996, 2089381.7699999998, 2470206.1300000004, 2105301.39, 2144634.8899999987, 2064065.6599999997, 2196968.3299999996, 2127661.17, 2207214.8100000005, 2154137.6699999995, 2179360.939999999, 2245257.1799999997, 2234190.9299999997, 2197299.6499999994, 2128362.9200000004, 2224499.28, 2100248.65, 2175563.6900000004, 2048613.6500000001, 2174514.1299999994, 2193367.69, 2283540.3000000007, 2125241.6799999997, 2081181.3500000006, 2125104.7199999997, 2117854.599999999, 2119438.53, 2027620.2299999995, 2209835.43, 2132766.0700000003, 2097266.85], \"yaxis\": \"y\"}, {\"hoverlabel\": {\"namelength\": 0}, \"hovertemplate\": \"Stores=13<br>Date=%{x}<br>Sales=%{y}\", \"legendgroup\": \"Stores=13\", \"line\": {\"color\": \"#00cc96\", \"dash\": \"solid\"}, \"mode\": \"lines\", \"name\": \"Stores=13\", \"showlegend\": true, \"type\": \"scatter\", \"x\": [\"2010-02-05T00:00:00\", \"2010-02-12T00:00:00\", \"2010-02-19T00:00:00\", \"2010-02-26T00:00:00\", \"2010-03-05T00:00:00\", \"2010-03-12T00:00:00\", \"2010-03-19T00:00:00\", \"2010-03-26T00:00:00\", \"2010-04-02T00:00:00\", \"2010-04-09T00:00:00\", \"2010-04-16T00:00:00\", \"2010-04-23T00:00:00\", \"2010-04-30T00:00:00\", \"2010-05-07T00:00:00\", \"2010-05-14T00:00:00\", \"2010-05-21T00:00:00\", \"2010-05-28T00:00:00\", \"2010-06-04T00:00:00\", \"2010-06-11T00:00:00\", \"2010-06-18T00:00:00\", \"2010-06-25T00:00:00\", \"2010-07-02T00:00:00\", \"2010-07-09T00:00:00\", \"2010-07-16T00:00:00\", \"2010-07-23T00:00:00\", \"2010-07-30T00:00:00\", \"2010-08-06T00:00:00\", \"2010-08-13T00:00:00\", \"2010-08-20T00:00:00\", \"2010-08-27T00:00:00\", \"2010-09-03T00:00:00\", \"2010-09-10T00:00:00\", \"2010-09-17T00:00:00\", \"2010-09-24T00:00:00\", \"2010-10-01T00:00:00\", \"2010-10-08T00:00:00\", \"2010-10-15T00:00:00\", \"2010-10-22T00:00:00\", \"2010-10-29T00:00:00\", \"2010-11-05T00:00:00\", \"2010-11-12T00:00:00\", \"2010-11-19T00:00:00\", \"2010-11-26T00:00:00\", \"2010-12-03T00:00:00\", \"2010-12-10T00:00:00\", \"2010-12-17T00:00:00\", \"2010-12-24T00:00:00\", \"2010-12-31T00:00:00\", \"2011-01-07T00:00:00\", \"2011-01-14T00:00:00\", \"2011-01-21T00:00:00\", \"2011-01-28T00:00:00\", \"2011-02-04T00:00:00\", \"2011-02-11T00:00:00\", \"2011-02-18T00:00:00\", \"2011-02-25T00:00:00\", \"2011-03-04T00:00:00\", \"2011-03-11T00:00:00\", \"2011-03-18T00:00:00\", \"2011-03-25T00:00:00\", \"2011-04-01T00:00:00\", \"2011-04-08T00:00:00\", \"2011-04-15T00:00:00\", \"2011-04-22T00:00:00\", \"2011-04-29T00:00:00\", \"2011-05-06T00:00:00\", \"2011-05-13T00:00:00\", \"2011-05-20T00:00:00\", \"2011-05-27T00:00:00\", \"2011-06-03T00:00:00\", \"2011-06-10T00:00:00\", \"2011-06-17T00:00:00\", \"2011-06-24T00:00:00\", \"2011-07-01T00:00:00\", \"2011-07-08T00:00:00\", \"2011-07-15T00:00:00\", \"2011-07-22T00:00:00\", \"2011-07-29T00:00:00\", \"2011-08-05T00:00:00\", \"2011-08-12T00:00:00\", \"2011-08-19T00:00:00\", \"2011-08-26T00:00:00\", \"2011-09-02T00:00:00\", \"2011-09-09T00:00:00\", \"2011-09-16T00:00:00\", \"2011-09-23T00:00:00\", \"2011-09-30T00:00:00\", \"2011-10-07T00:00:00\", \"2011-10-14T00:00:00\", \"2011-10-21T00:00:00\", \"2011-10-28T00:00:00\", \"2011-11-04T00:00:00\", \"2011-11-11T00:00:00\", \"2011-11-18T00:00:00\", \"2011-11-25T00:00:00\", \"2011-12-02T00:00:00\", \"2011-12-09T00:00:00\", \"2011-12-16T00:00:00\", \"2011-12-23T00:00:00\", \"2011-12-30T00:00:00\", \"2012-01-06T00:00:00\", \"2012-01-13T00:00:00\", \"2012-01-20T00:00:00\", \"2012-01-27T00:00:00\", \"2012-02-03T00:00:00\", \"2012-02-10T00:00:00\", \"2012-02-17T00:00:00\", \"2012-02-24T00:00:00\", \"2012-03-02T00:00:00\", \"2012-03-09T00:00:00\", \"2012-03-16T00:00:00\", \"2012-03-23T00:00:00\", \"2012-03-30T00:00:00\", \"2012-04-06T00:00:00\", \"2012-04-13T00:00:00\", \"2012-04-20T00:00:00\", \"2012-04-27T00:00:00\", \"2012-05-04T00:00:00\", \"2012-05-11T00:00:00\", \"2012-05-18T00:00:00\", \"2012-05-25T00:00:00\", \"2012-06-01T00:00:00\", \"2012-06-08T00:00:00\", \"2012-06-15T00:00:00\", \"2012-06-22T00:00:00\", \"2012-06-29T00:00:00\", \"2012-07-06T00:00:00\", \"2012-07-13T00:00:00\", \"2012-07-20T00:00:00\", \"2012-07-27T00:00:00\", \"2012-08-03T00:00:00\", \"2012-08-10T00:00:00\", \"2012-08-17T00:00:00\", \"2012-08-24T00:00:00\", \"2012-08-31T00:00:00\", \"2012-09-07T00:00:00\", \"2012-09-14T00:00:00\", \"2012-09-21T00:00:00\", \"2012-09-28T00:00:00\", \"2012-10-05T00:00:00\", \"2012-10-12T00:00:00\", \"2012-10-19T00:00:00\"], \"xaxis\": \"x\", \"y\": [1967220.5299999996, 2030933.4599999995, 1970274.64, 1817850.32, 1939980.4300000004, 1840686.9400000002, 1879794.89, 1882095.9799999995, 2142482.1399999997, 1898321.3299999998, 1819660.4399999997, 1909330.7699999993, 1785823.3700000003, 2005478.4599999995, 1890273.4399999995, 1853657.6, 1877358.86, 2022705.22, 2037880.9600000002, 2003435.31, 1970340.2500000002, 2018314.7099999997, 1870843.9000000001, 1932231.0500000007, 1907351.1999999995, 1817887.23, 1969121.4500000002, 1877592.5500000003, 1997397.6299999992, 1908278.2700000003, 1911852.5799999998, 1772143.9399999995, 1790279.74, 1705655.09, 1765584.4799999993, 1871924.0699999998, 1851431.06, 1796949.5899999999, 1887895.07, 1854967.6599999997, 1939964.6299999997, 1925393.9100000006, 2766400.0500000003, 2083379.8900000004, 2461468.3500000006, 2771646.81, 3595903.2, 1675291.9999999995, 1744544.3900000001, 1682316.3099999996, 1770177.37, 1633663.1200000006, 1848186.5799999996, 1944438.8999999994, 2003480.5900000003, 1831933.9500000002, 1894960.68, 1852432.5799999996, 1852443.7799999998, 1807545.4299999997, 1864238.6400000008, 1887465.0400000003, 1950994.0399999993, 2124316.34, 1895583.12, 1986380.3999999994, 1958823.5599999998, 1860923.5500000003, 1866369.93, 1935593.8699999996, 1997816.98, 2086433.4900000007, 2009163.0799999998, 2048035.74, 2021699.3800000004, 1956813.3099999998, 1987089.3600000003, 1880785.6900000002, 2076231.8000000003, 1970331.3799999994, 2090340.9800000002, 2035244.5399999996, 1953628.8199999998, 1872921.31, 1923223.8199999996, 1847430.9600000002, 1835662.6899999995, 2067232.560000001, 1929659.0700000003, 1973544.2700000003, 1948733.8100000003, 2036317.539999999, 2111592.09, 2016323.5100000002, 2862898.61, 2051314.5900000005, 2462779.060000001, 2760346.7099999995, 3556766.03, 1969056.9100000006, 1865752.7799999998, 1794962.6399999997, 1811606.21, 1733983.0899999996, 1927780.7400000005, 2069284.5699999998, 2214477.0599999996, 1929768.03, 1969742.7599999998, 1986438.5299999993, 2025582.62, 1904421.74, 1948982.6999999997, 2271614.76, 2057637.8600000003, 1955689.1200000003, 1970121.6499999997, 1995994.5100000002, 2080764.1699999992, 2131900.55, 2043349.41, 2035431.3899999997, 2182437.9, 2152229.11, 2094372.9999999995, 2037663.7100000004, 2184980.350000001, 2002750.99, 2053089.3199999998, 1914430.53, 2044148.23, 2041117.9200000004, 2095769.1800000002, 2059458.2500000007, 2073855.42, 2165796.31, 1919917.0299999996, 1938379.66, 1927664.1100000003, 2041918.7400000005, 1998869.44, 2017986.24], \"yaxis\": \"y\"}, {\"hoverlabel\": {\"namelength\": 0}, \"hovertemplate\": \"Stores=14<br>Date=%{x}<br>Sales=%{y}\", \"legendgroup\": \"Stores=14\", \"line\": {\"color\": \"#ab63fa\", \"dash\": \"solid\"}, \"mode\": \"lines\", \"name\": \"Stores=14\", \"showlegend\": true, \"type\": \"scatter\", \"x\": [\"2010-02-05T00:00:00\", \"2010-02-12T00:00:00\", \"2010-02-19T00:00:00\", \"2010-02-26T00:00:00\", \"2010-03-05T00:00:00\", \"2010-03-12T00:00:00\", \"2010-03-19T00:00:00\", \"2010-03-26T00:00:00\", \"2010-04-02T00:00:00\", \"2010-04-09T00:00:00\", \"2010-04-16T00:00:00\", \"2010-04-23T00:00:00\", \"2010-04-30T00:00:00\", \"2010-05-07T00:00:00\", \"2010-05-14T00:00:00\", \"2010-05-21T00:00:00\", \"2010-05-28T00:00:00\", \"2010-06-04T00:00:00\", \"2010-06-11T00:00:00\", \"2010-06-18T00:00:00\", \"2010-06-25T00:00:00\", \"2010-07-02T00:00:00\", \"2010-07-09T00:00:00\", \"2010-07-16T00:00:00\", \"2010-07-23T00:00:00\", \"2010-07-30T00:00:00\", \"2010-08-06T00:00:00\", \"2010-08-13T00:00:00\", \"2010-08-20T00:00:00\", \"2010-08-27T00:00:00\", \"2010-09-03T00:00:00\", \"2010-09-10T00:00:00\", \"2010-09-17T00:00:00\", \"2010-09-24T00:00:00\", \"2010-10-01T00:00:00\", \"2010-10-08T00:00:00\", \"2010-10-15T00:00:00\", \"2010-10-22T00:00:00\", \"2010-10-29T00:00:00\", \"2010-11-05T00:00:00\", \"2010-11-12T00:00:00\", \"2010-11-19T00:00:00\", \"2010-11-26T00:00:00\", \"2010-12-03T00:00:00\", \"2010-12-10T00:00:00\", \"2010-12-17T00:00:00\", \"2010-12-24T00:00:00\", \"2010-12-31T00:00:00\", \"2011-01-07T00:00:00\", \"2011-01-14T00:00:00\", \"2011-01-21T00:00:00\", \"2011-01-28T00:00:00\", \"2011-02-04T00:00:00\", \"2011-02-11T00:00:00\", \"2011-02-18T00:00:00\", \"2011-02-25T00:00:00\", \"2011-03-04T00:00:00\", \"2011-03-11T00:00:00\", \"2011-03-18T00:00:00\", \"2011-03-25T00:00:00\", \"2011-04-01T00:00:00\", \"2011-04-08T00:00:00\", \"2011-04-15T00:00:00\", \"2011-04-22T00:00:00\", \"2011-04-29T00:00:00\", \"2011-05-06T00:00:00\", \"2011-05-13T00:00:00\", \"2011-05-20T00:00:00\", \"2011-05-27T00:00:00\", \"2011-06-03T00:00:00\", \"2011-06-10T00:00:00\", \"2011-06-17T00:00:00\", \"2011-06-24T00:00:00\", \"2011-07-01T00:00:00\", \"2011-07-08T00:00:00\", \"2011-07-15T00:00:00\", \"2011-07-22T00:00:00\", \"2011-07-29T00:00:00\", \"2011-08-05T00:00:00\", \"2011-08-12T00:00:00\", \"2011-08-19T00:00:00\", \"2011-08-26T00:00:00\", \"2011-09-02T00:00:00\", \"2011-09-09T00:00:00\", \"2011-09-16T00:00:00\", \"2011-09-23T00:00:00\", \"2011-09-30T00:00:00\", \"2011-10-07T00:00:00\", \"2011-10-14T00:00:00\", \"2011-10-21T00:00:00\", \"2011-10-28T00:00:00\", \"2011-11-04T00:00:00\", \"2011-11-11T00:00:00\", \"2011-11-18T00:00:00\", \"2011-11-25T00:00:00\", \"2011-12-02T00:00:00\", \"2011-12-09T00:00:00\", \"2011-12-16T00:00:00\", \"2011-12-23T00:00:00\", \"2011-12-30T00:00:00\", \"2012-01-06T00:00:00\", \"2012-01-13T00:00:00\", \"2012-01-20T00:00:00\", \"2012-01-27T00:00:00\", \"2012-02-03T00:00:00\", \"2012-02-10T00:00:00\", \"2012-02-17T00:00:00\", \"2012-02-24T00:00:00\", \"2012-03-02T00:00:00\", \"2012-03-09T00:00:00\", \"2012-03-16T00:00:00\", \"2012-03-23T00:00:00\", \"2012-03-30T00:00:00\", \"2012-04-06T00:00:00\", \"2012-04-13T00:00:00\", \"2012-04-20T00:00:00\", \"2012-04-27T00:00:00\", \"2012-05-04T00:00:00\", \"2012-05-11T00:00:00\", \"2012-05-18T00:00:00\", \"2012-05-25T00:00:00\", \"2012-06-01T00:00:00\", \"2012-06-08T00:00:00\", \"2012-06-15T00:00:00\", \"2012-06-22T00:00:00\", \"2012-06-29T00:00:00\", \"2012-07-06T00:00:00\", \"2012-07-13T00:00:00\", \"2012-07-20T00:00:00\", \"2012-07-27T00:00:00\", \"2012-08-03T00:00:00\", \"2012-08-10T00:00:00\", \"2012-08-17T00:00:00\", \"2012-08-24T00:00:00\", \"2012-08-31T00:00:00\", \"2012-09-07T00:00:00\", \"2012-09-14T00:00:00\", \"2012-09-21T00:00:00\", \"2012-09-28T00:00:00\", \"2012-10-05T00:00:00\", \"2012-10-12T00:00:00\", \"2012-10-19T00:00:00\"], \"xaxis\": \"x\", \"y\": [2623469.950000001, 1704218.59, 2204556.7, 2095591.6299999997, 2237544.75, 2156035.06, 2066219.3000000003, 2050396.2700000003, 2495630.5099999993, 2258781.2799999993, 2121788.61, 2138144.9099999997, 2082355.1199999999, 2370116.520000001, 2129771.1299999994, 2108187.0999999996, 2227152.16, 2363601.4700000007, 2249570.0399999996, 2248645.5900000003, 2246179.9100000006, 2334788.4199999995, 2236209.1299999994, 2130287.27, 2044155.39, 2054843.28, 2219813.5000000005, 2052984.8099999994, 2057138.3100000005, 2020332.0699999996, 2182563.6599999997, 2191767.76, 1953539.8499999999, 1879891.1300000004, 1855703.6599999995, 2091663.2, 1932162.6299999994, 1936621.0899999999, 1984768.3399999994, 2078417.4699999997, 2092189.06, 1968462.5799999994, 2921709.709999999, 2258489.6300000004, 2600519.2599999993, 2762861.409999999, 3818686.4499999993, 1623716.4600000002, 1864746.0999999996, 1699095.9, 1743188.8699999994, 1613718.38, 1995891.87, 1980405.0299999998, 2019031.6700000002, 1875708.8800000001, 2041215.61, 1931104.6700000002, 1932491.42, 1879451.2299999995, 1869110.5499999998, 2037798.8800000004, 1974960.8599999999, 2256461.3899999997, 1930617.64, 2095599.9300000002, 2004330.3, 1959967.7999999998, 2080694.2399999998, 2079899.47, 2132446.0000000005, 2082083.34, 2069523.5200000003, 2074668.1899999995, 2063401.06, 1953544.76, 1882070.88, 1871021.0099999998, 2066020.6900000004, 1928773.8199999998, 1896873.99, 2273470.6199999996, 1750891.4700000002, 2202742.9, 1864637.89, 1871551.1400000006, 1809989.2900000003, 2078796.76, 1890870.7499999995, 2009004.59, 2056846.1200000003, 2174056.71, 2081534.6499999997, 1969360.7200000002, 2685351.8100000005, 2143080.57, 2470581.29, 2594363.09, 3369068.9899999993, 1914136.0100000002, 1859144.9599999997, 1696248.2700000005, 1789113.3200000003, 1595362.2700000003, 1877410.3599999996, 2077256.24, 2020352.9899999995, 1875040.1600000001, 1926004.9899999998, 2020839.3100000003, 1941040.5000000002, 1893447.7099999997, 1905033.01, 2376022.26, 1912909.69, 1875686.4399999995, 1784029.95, 1949354.2900000003, 1987516.0499999996, 1932233.1699999997, 2030869.6099999996, 2049485.4899999995, 2099615.88, 1905733.68, 1660228.88, 1591835.02, 1862128.9500000002, 1544422.3500000003, 1553250.1600000006, 1479514.66, 1656886.46, 1648570.0300000005, 1660433.3000000003, 1621841.33, 1613342.19, 1904512.3399999996, 1554794.22, 1565352.4599999997, 1522512.2, 1687592.1600000001, 1639484.2700000005, 1590274.7200000004], \"yaxis\": \"y\"}, {\"hoverlabel\": {\"namelength\": 0}, \"hovertemplate\": \"Stores=20<br>Date=%{x}<br>Sales=%{y}\", \"legendgroup\": \"Stores=20\", \"line\": {\"color\": \"#FFA15A\", \"dash\": \"solid\"}, \"mode\": \"lines\", \"name\": \"Stores=20\", \"showlegend\": true, \"type\": \"scatter\", \"x\": [\"2010-02-05T00:00:00\", \"2010-02-12T00:00:00\", \"2010-02-19T00:00:00\", \"2010-02-26T00:00:00\", \"2010-03-05T00:00:00\", \"2010-03-12T00:00:00\", \"2010-03-19T00:00:00\", \"2010-03-26T00:00:00\", \"2010-04-02T00:00:00\", \"2010-04-09T00:00:00\", \"2010-04-16T00:00:00\", \"2010-04-23T00:00:00\", \"2010-04-30T00:00:00\", \"2010-05-07T00:00:00\", \"2010-05-14T00:00:00\", \"2010-05-21T00:00:00\", \"2010-05-28T00:00:00\", \"2010-06-04T00:00:00\", \"2010-06-11T00:00:00\", \"2010-06-18T00:00:00\", \"2010-06-25T00:00:00\", \"2010-07-02T00:00:00\", \"2010-07-09T00:00:00\", \"2010-07-16T00:00:00\", \"2010-07-23T00:00:00\", \"2010-07-30T00:00:00\", \"2010-08-06T00:00:00\", \"2010-08-13T00:00:00\", \"2010-08-20T00:00:00\", \"2010-08-27T00:00:00\", \"2010-09-03T00:00:00\", \"2010-09-10T00:00:00\", \"2010-09-17T00:00:00\", \"2010-09-24T00:00:00\", \"2010-10-01T00:00:00\", \"2010-10-08T00:00:00\", \"2010-10-15T00:00:00\", \"2010-10-22T00:00:00\", \"2010-10-29T00:00:00\", \"2010-11-05T00:00:00\", \"2010-11-12T00:00:00\", \"2010-11-19T00:00:00\", \"2010-11-26T00:00:00\", \"2010-12-03T00:00:00\", \"2010-12-10T00:00:00\", \"2010-12-17T00:00:00\", \"2010-12-24T00:00:00\", \"2010-12-31T00:00:00\", \"2011-01-07T00:00:00\", \"2011-01-14T00:00:00\", \"2011-01-21T00:00:00\", \"2011-01-28T00:00:00\", \"2011-02-04T00:00:00\", \"2011-02-11T00:00:00\", \"2011-02-18T00:00:00\", \"2011-02-25T00:00:00\", \"2011-03-04T00:00:00\", \"2011-03-11T00:00:00\", \"2011-03-18T00:00:00\", \"2011-03-25T00:00:00\", \"2011-04-01T00:00:00\", \"2011-04-08T00:00:00\", \"2011-04-15T00:00:00\", \"2011-04-22T00:00:00\", \"2011-04-29T00:00:00\", \"2011-05-06T00:00:00\", \"2011-05-13T00:00:00\", \"2011-05-20T00:00:00\", \"2011-05-27T00:00:00\", \"2011-06-03T00:00:00\", \"2011-06-10T00:00:00\", \"2011-06-17T00:00:00\", \"2011-06-24T00:00:00\", \"2011-07-01T00:00:00\", \"2011-07-08T00:00:00\", \"2011-07-15T00:00:00\", \"2011-07-22T00:00:00\", \"2011-07-29T00:00:00\", \"2011-08-05T00:00:00\", \"2011-08-12T00:00:00\", \"2011-08-19T00:00:00\", \"2011-08-26T00:00:00\", \"2011-09-02T00:00:00\", \"2011-09-09T00:00:00\", \"2011-09-16T00:00:00\", \"2011-09-23T00:00:00\", \"2011-09-30T00:00:00\", \"2011-10-07T00:00:00\", \"2011-10-14T00:00:00\", \"2011-10-21T00:00:00\", \"2011-10-28T00:00:00\", \"2011-11-04T00:00:00\", \"2011-11-11T00:00:00\", \"2011-11-18T00:00:00\", \"2011-11-25T00:00:00\", \"2011-12-02T00:00:00\", \"2011-12-09T00:00:00\", \"2011-12-16T00:00:00\", \"2011-12-23T00:00:00\", \"2011-12-30T00:00:00\", \"2012-01-06T00:00:00\", \"2012-01-13T00:00:00\", \"2012-01-20T00:00:00\", \"2012-01-27T00:00:00\", \"2012-02-03T00:00:00\", \"2012-02-10T00:00:00\", \"2012-02-17T00:00:00\", \"2012-02-24T00:00:00\", \"2012-03-02T00:00:00\", \"2012-03-09T00:00:00\", \"2012-03-16T00:00:00\", \"2012-03-23T00:00:00\", \"2012-03-30T00:00:00\", \"2012-04-06T00:00:00\", \"2012-04-13T00:00:00\", \"2012-04-20T00:00:00\", \"2012-04-27T00:00:00\", \"2012-05-04T00:00:00\", \"2012-05-11T00:00:00\", \"2012-05-18T00:00:00\", \"2012-05-25T00:00:00\", \"2012-06-01T00:00:00\", \"2012-06-08T00:00:00\", \"2012-06-15T00:00:00\", \"2012-06-22T00:00:00\", \"2012-06-29T00:00:00\", \"2012-07-06T00:00:00\", \"2012-07-13T00:00:00\", \"2012-07-20T00:00:00\", \"2012-07-27T00:00:00\", \"2012-08-03T00:00:00\", \"2012-08-10T00:00:00\", \"2012-08-17T00:00:00\", \"2012-08-24T00:00:00\", \"2012-08-31T00:00:00\", \"2012-09-07T00:00:00\", \"2012-09-14T00:00:00\", \"2012-09-21T00:00:00\", \"2012-09-28T00:00:00\", \"2012-10-05T00:00:00\", \"2012-10-12T00:00:00\", \"2012-10-19T00:00:00\"], \"xaxis\": \"x\", \"y\": [2401395.4699999993, 2109107.9, 2161549.7600000002, 1898193.9499999995, 2119213.7199999997, 2010974.84, 1951848.4299999992, 1894742.9500000002, 2405395.2199999993, 2007796.2599999995, 1985784.5900000003, 1878862.4200000002, 1919053.21, 2137202.38, 2033211.6199999996, 1893736.8999999997, 2065984.9499999997, 2203619.35, 2100489.79, 2091903.63, 1973135.87, 2143676.7699999996, 2107285.8500000006, 2031852.1600000006, 1900535.9000000001, 1955896.5899999996, 1910177.3800000001, 2071022.4500000004, 1975374.5600000008, 1946369.5700000005, 2121561.4100000006, 2014954.7900000005, 1948359.78, 1789687.6500000001, 1933719.2100000002, 2060389.2699999993, 1950676.3900000001, 1893955.2699999998, 1891815.9999999998, 2184316.64, 2187765.28, 2105058.9099999997, 2811634.04, 2416051.1699999995, 2752122.0800000005, 2819193.1700000004, 3766687.430000002, 1799737.79, 1843030.9500000002, 1884345.01, 1781805.6600000006, 1761506.6800000004, 2351143.07, 2211388.1400000006, 2258616.2399999998, 1938608.5200000005, 2143424.6100000003, 1990932.7699999998, 1931668.6399999997, 1824711.2100000002, 1927993.09, 2027056.39, 2057376.3700000003, 2313861.81, 1881788.19, 2090838.4399999995, 2036748.5299999996, 1953416.0600000003, 1944433.17, 2182246.6900000004, 2135062.0400000005, 2065191.2699999993, 1950826.3199999996, 2053165.4100000004, 2123787.79, 2039875.75, 1950904.8399999999, 1858440.9200000002, 2189353.63, 2052246.3999999992, 1990017.9300000002, 1933577.2000000002, 2141765.9800000004, 2050542.5600000003, 1979009.4600000002, 1888119.7, 1945808.2599999995, 2135982.7899999996, 2010107.6800000004, 2104241.9, 2065421.5200000003, 2284106.6000000006, 2269975.85, 2169933.82, 2906233.2500000005, 2298776.829999999, 2546123.78, 2762816.650000001, 3555371.030000001, 2043244.9999999998, 1964696.94, 1911510.64, 1892775.9399999997, 1761016.5100000002, 2203523.1999999997, 2462978.2800000003, 2309025.1600000006, 2045837.55, 2148822.76, 2139265.4, 2064991.7100000004, 1992436.9599999997, 2074721.7399999995, 2565259.92, 2045396.0599999998, 1884427.8399999992, 1886503.9300000002, 2163510.89, 2168097.11, 2039222.26, 2114989.0, 2143126.5900000003, 2231962.1300000004, 2165160.2899999996, 2060588.6899999995, 2055952.609999999, 2358055.299999999, 2134680.12, 1970170.2899999998, 1911538.1600000001, 2094515.7099999997, 2144245.389999999, 2045236.2200000002, 2005341.4300000002, 2062481.5600000003, 2080529.0600000008, 2047949.9800000002, 2028587.2400000002, 2008350.5800000005, 2246411.89, 2162712.3499999996, 1999363.4900000002], \"yaxis\": \"y\"}],\n",
       "                        {\"legend\": {\"tracegroupgap\": 0}, \"template\": {\"data\": {\"bar\": [{\"error_x\": {\"color\": \"#2a3f5f\"}, \"error_y\": {\"color\": \"#2a3f5f\"}, \"marker\": {\"line\": {\"color\": \"#E5ECF6\", \"width\": 0.5}}, \"type\": \"bar\"}], \"barpolar\": [{\"marker\": {\"line\": {\"color\": \"#E5ECF6\", \"width\": 0.5}}, \"type\": \"barpolar\"}], \"carpet\": [{\"aaxis\": {\"endlinecolor\": \"#2a3f5f\", \"gridcolor\": \"white\", \"linecolor\": \"white\", \"minorgridcolor\": \"white\", \"startlinecolor\": \"#2a3f5f\"}, \"baxis\": {\"endlinecolor\": \"#2a3f5f\", \"gridcolor\": \"white\", \"linecolor\": \"white\", \"minorgridcolor\": \"white\", \"startlinecolor\": \"#2a3f5f\"}, \"type\": \"carpet\"}], \"choropleth\": [{\"colorbar\": {\"outlinewidth\": 0, \"ticks\": \"\"}, \"type\": \"choropleth\"}], \"contour\": [{\"colorbar\": {\"outlinewidth\": 0, \"ticks\": \"\"}, \"colorscale\": [[0.0, \"#0d0887\"], [0.1111111111111111, \"#46039f\"], [0.2222222222222222, \"#7201a8\"], [0.3333333333333333, \"#9c179e\"], [0.4444444444444444, \"#bd3786\"], [0.5555555555555556, \"#d8576b\"], [0.6666666666666666, \"#ed7953\"], [0.7777777777777778, \"#fb9f3a\"], [0.8888888888888888, \"#fdca26\"], [1.0, \"#f0f921\"]], \"type\": \"contour\"}], \"contourcarpet\": [{\"colorbar\": {\"outlinewidth\": 0, \"ticks\": \"\"}, \"type\": \"contourcarpet\"}], \"heatmap\": [{\"colorbar\": {\"outlinewidth\": 0, \"ticks\": \"\"}, \"colorscale\": [[0.0, \"#0d0887\"], [0.1111111111111111, \"#46039f\"], [0.2222222222222222, \"#7201a8\"], [0.3333333333333333, \"#9c179e\"], [0.4444444444444444, \"#bd3786\"], [0.5555555555555556, \"#d8576b\"], [0.6666666666666666, \"#ed7953\"], [0.7777777777777778, \"#fb9f3a\"], [0.8888888888888888, \"#fdca26\"], [1.0, \"#f0f921\"]], \"type\": \"heatmap\"}], \"heatmapgl\": [{\"colorbar\": {\"outlinewidth\": 0, \"ticks\": \"\"}, \"colorscale\": [[0.0, \"#0d0887\"], [0.1111111111111111, \"#46039f\"], [0.2222222222222222, \"#7201a8\"], [0.3333333333333333, \"#9c179e\"], [0.4444444444444444, \"#bd3786\"], [0.5555555555555556, \"#d8576b\"], [0.6666666666666666, \"#ed7953\"], [0.7777777777777778, \"#fb9f3a\"], [0.8888888888888888, \"#fdca26\"], [1.0, \"#f0f921\"]], \"type\": \"heatmapgl\"}], \"histogram\": [{\"marker\": {\"colorbar\": {\"outlinewidth\": 0, \"ticks\": \"\"}}, \"type\": \"histogram\"}], \"histogram2d\": [{\"colorbar\": {\"outlinewidth\": 0, \"ticks\": \"\"}, \"colorscale\": [[0.0, \"#0d0887\"], [0.1111111111111111, \"#46039f\"], [0.2222222222222222, \"#7201a8\"], [0.3333333333333333, \"#9c179e\"], [0.4444444444444444, \"#bd3786\"], [0.5555555555555556, \"#d8576b\"], [0.6666666666666666, \"#ed7953\"], [0.7777777777777778, \"#fb9f3a\"], [0.8888888888888888, \"#fdca26\"], [1.0, \"#f0f921\"]], \"type\": \"histogram2d\"}], \"histogram2dcontour\": [{\"colorbar\": {\"outlinewidth\": 0, \"ticks\": \"\"}, \"colorscale\": [[0.0, \"#0d0887\"], [0.1111111111111111, \"#46039f\"], [0.2222222222222222, \"#7201a8\"], [0.3333333333333333, \"#9c179e\"], [0.4444444444444444, \"#bd3786\"], [0.5555555555555556, \"#d8576b\"], [0.6666666666666666, \"#ed7953\"], [0.7777777777777778, \"#fb9f3a\"], [0.8888888888888888, \"#fdca26\"], [1.0, \"#f0f921\"]], \"type\": \"histogram2dcontour\"}], \"mesh3d\": [{\"colorbar\": {\"outlinewidth\": 0, \"ticks\": \"\"}, \"type\": \"mesh3d\"}], \"parcoords\": [{\"line\": {\"colorbar\": {\"outlinewidth\": 0, \"ticks\": \"\"}}, \"type\": \"parcoords\"}], \"pie\": [{\"automargin\": true, \"type\": \"pie\"}], \"scatter\": [{\"marker\": {\"colorbar\": {\"outlinewidth\": 0, \"ticks\": \"\"}}, \"type\": \"scatter\"}], \"scatter3d\": [{\"line\": {\"colorbar\": {\"outlinewidth\": 0, \"ticks\": \"\"}}, \"marker\": {\"colorbar\": {\"outlinewidth\": 0, \"ticks\": \"\"}}, \"type\": \"scatter3d\"}], \"scattercarpet\": [{\"marker\": {\"colorbar\": {\"outlinewidth\": 0, \"ticks\": \"\"}}, \"type\": \"scattercarpet\"}], \"scattergeo\": [{\"marker\": {\"colorbar\": {\"outlinewidth\": 0, \"ticks\": \"\"}}, \"type\": \"scattergeo\"}], \"scattergl\": [{\"marker\": {\"colorbar\": {\"outlinewidth\": 0, \"ticks\": \"\"}}, \"type\": \"scattergl\"}], \"scattermapbox\": [{\"marker\": {\"colorbar\": {\"outlinewidth\": 0, \"ticks\": \"\"}}, \"type\": \"scattermapbox\"}], \"scatterpolar\": [{\"marker\": {\"colorbar\": {\"outlinewidth\": 0, \"ticks\": \"\"}}, \"type\": \"scatterpolar\"}], \"scatterpolargl\": [{\"marker\": {\"colorbar\": {\"outlinewidth\": 0, \"ticks\": \"\"}}, \"type\": \"scatterpolargl\"}], \"scatterternary\": [{\"marker\": {\"colorbar\": {\"outlinewidth\": 0, \"ticks\": \"\"}}, \"type\": \"scatterternary\"}], \"surface\": [{\"colorbar\": {\"outlinewidth\": 0, \"ticks\": \"\"}, \"colorscale\": [[0.0, \"#0d0887\"], [0.1111111111111111, \"#46039f\"], [0.2222222222222222, \"#7201a8\"], [0.3333333333333333, \"#9c179e\"], [0.4444444444444444, \"#bd3786\"], [0.5555555555555556, \"#d8576b\"], [0.6666666666666666, \"#ed7953\"], [0.7777777777777778, \"#fb9f3a\"], [0.8888888888888888, \"#fdca26\"], [1.0, \"#f0f921\"]], \"type\": \"surface\"}], \"table\": [{\"cells\": {\"fill\": {\"color\": \"#EBF0F8\"}, \"line\": {\"color\": \"white\"}}, \"header\": {\"fill\": {\"color\": \"#C8D4E3\"}, \"line\": {\"color\": \"white\"}}, \"type\": \"table\"}]}, \"layout\": {\"annotationdefaults\": {\"arrowcolor\": \"#2a3f5f\", \"arrowhead\": 0, \"arrowwidth\": 1}, \"coloraxis\": {\"colorbar\": {\"outlinewidth\": 0, \"ticks\": \"\"}}, \"colorscale\": {\"diverging\": [[0, \"#8e0152\"], [0.1, \"#c51b7d\"], [0.2, \"#de77ae\"], [0.3, \"#f1b6da\"], [0.4, \"#fde0ef\"], [0.5, \"#f7f7f7\"], [0.6, \"#e6f5d0\"], [0.7, \"#b8e186\"], [0.8, \"#7fbc41\"], [0.9, \"#4d9221\"], [1, \"#276419\"]], \"sequential\": [[0.0, \"#0d0887\"], [0.1111111111111111, \"#46039f\"], [0.2222222222222222, \"#7201a8\"], [0.3333333333333333, \"#9c179e\"], [0.4444444444444444, \"#bd3786\"], [0.5555555555555556, \"#d8576b\"], [0.6666666666666666, \"#ed7953\"], [0.7777777777777778, \"#fb9f3a\"], [0.8888888888888888, \"#fdca26\"], [1.0, \"#f0f921\"]], \"sequentialminus\": [[0.0, \"#0d0887\"], [0.1111111111111111, \"#46039f\"], [0.2222222222222222, \"#7201a8\"], [0.3333333333333333, \"#9c179e\"], [0.4444444444444444, \"#bd3786\"], [0.5555555555555556, \"#d8576b\"], [0.6666666666666666, \"#ed7953\"], [0.7777777777777778, \"#fb9f3a\"], [0.8888888888888888, \"#fdca26\"], [1.0, \"#f0f921\"]]}, \"colorway\": [\"#636efa\", \"#EF553B\", \"#00cc96\", \"#ab63fa\", \"#FFA15A\", \"#19d3f3\", \"#FF6692\", \"#B6E880\", \"#FF97FF\", \"#FECB52\"], \"font\": {\"color\": \"#2a3f5f\"}, \"geo\": {\"bgcolor\": \"white\", \"lakecolor\": \"white\", \"landcolor\": \"#E5ECF6\", \"showlakes\": true, \"showland\": true, \"subunitcolor\": \"white\"}, \"hoverlabel\": {\"align\": \"left\"}, \"hovermode\": \"closest\", \"mapbox\": {\"style\": \"light\"}, \"paper_bgcolor\": \"white\", \"plot_bgcolor\": \"#E5ECF6\", \"polar\": {\"angularaxis\": {\"gridcolor\": \"white\", \"linecolor\": \"white\", \"ticks\": \"\"}, \"bgcolor\": \"#E5ECF6\", \"radialaxis\": {\"gridcolor\": \"white\", \"linecolor\": \"white\", \"ticks\": \"\"}}, \"scene\": {\"xaxis\": {\"backgroundcolor\": \"#E5ECF6\", \"gridcolor\": \"white\", \"gridwidth\": 2, \"linecolor\": \"white\", \"showbackground\": true, \"ticks\": \"\", \"zerolinecolor\": \"white\"}, \"yaxis\": {\"backgroundcolor\": \"#E5ECF6\", \"gridcolor\": \"white\", \"gridwidth\": 2, \"linecolor\": \"white\", \"showbackground\": true, \"ticks\": \"\", \"zerolinecolor\": \"white\"}, \"zaxis\": {\"backgroundcolor\": \"#E5ECF6\", \"gridcolor\": \"white\", \"gridwidth\": 2, \"linecolor\": \"white\", \"showbackground\": true, \"ticks\": \"\", \"zerolinecolor\": \"white\"}}, \"shapedefaults\": {\"line\": {\"color\": \"#2a3f5f\"}}, \"ternary\": {\"aaxis\": {\"gridcolor\": \"white\", \"linecolor\": \"white\", \"ticks\": \"\"}, \"baxis\": {\"gridcolor\": \"white\", \"linecolor\": \"white\", \"ticks\": \"\"}, \"bgcolor\": \"#E5ECF6\", \"caxis\": {\"gridcolor\": \"white\", \"linecolor\": \"white\", \"ticks\": \"\"}}, \"title\": {\"x\": 0.05}, \"xaxis\": {\"automargin\": true, \"gridcolor\": \"white\", \"linecolor\": \"white\", \"ticks\": \"\", \"title\": {\"standoff\": 15}, \"zerolinecolor\": \"white\", \"zerolinewidth\": 2}, \"yaxis\": {\"automargin\": true, \"gridcolor\": \"white\", \"linecolor\": \"white\", \"ticks\": \"\", \"title\": {\"standoff\": 15}, \"zerolinecolor\": \"white\", \"zerolinewidth\": 2}}}, \"title\": {\"text\": \"\\u0414\\u0438\\u043d\\u0430\\u043c\\u0438\\u043a\\u0430 \\u0446\\u0435\\u043d \\u0432 \\u0442\\u043e\\u043f-5 \\u043c\\u0430\\u0433\\u0430\\u0437\\u0438\\u043d\\u043e\\u0432\"}, \"xaxis\": {\"anchor\": \"y\", \"domain\": [0.0, 1.0], \"title\": {\"text\": \"Date\"}}, \"yaxis\": {\"anchor\": \"x\", \"domain\": [0.0, 1.0], \"title\": {\"text\": \"Sales\"}}},\n",
       "                        {\"responsive\": true}\n",
       "                    ).then(function(){\n",
       "                            \n",
       "var gd = document.getElementById('9e48d796-297e-46a2-a397-f635fcb75bae');\n",
       "var x = new MutationObserver(function (mutations, observer) {{\n",
       "        var display = window.getComputedStyle(gd).display;\n",
       "        if (!display || display === 'none') {{\n",
       "            console.log([gd, 'removed!']);\n",
       "            Plotly.purge(gd);\n",
       "            observer.disconnect();\n",
       "        }}\n",
       "}});\n",
       "\n",
       "// Listen for the removal of the full notebook cells\n",
       "var notebookContainer = gd.closest('#notebook-container');\n",
       "if (notebookContainer) {{\n",
       "    x.observe(notebookContainer, {childList: true});\n",
       "}}\n",
       "\n",
       "// Listen for the clearing of the current output cell\n",
       "var outputEl = gd.closest('.output');\n",
       "if (outputEl) {{\n",
       "    x.observe(outputEl, {childList: true});\n",
       "}}\n",
       "\n",
       "                        })\n",
       "                };\n",
       "                \n",
       "            </script>\n",
       "        </div>\n",
       "</body>\n",
       "</html>"
      ]
     },
     "metadata": {
      "tags": []
     },
     "output_type": "display_data"
    }
   ],
   "source": [
    "\n",
    "wal_top = wal.groupby(['Store'], as_index=False)['Weekly_Sales'].sum()\n",
    "wal_top = wal_top.nlargest(5, 'Weekly_Sales')\n",
    "\n",
    "wal_trend = wal.groupby(['Date','Store'], as_index=False)['Weekly_Sales'].sum()\n",
    "wal_trend = wal_trend.merge(wal_top, on='Store')\n",
    "print(wal_trend.columns)\n",
    "\n",
    "wal_trend.rename(columns={'Store' : 'Stores', \n",
    "                         'Weekly_Sales_x':'Sales',\n",
    "                         }, \n",
    "                inplace=True)\n",
    "px.line(wal_trend, \n",
    "        title='Динамика цен в топ-5 магазинов',\n",
    "        x='Date', \n",
    "        y='Sales',\n",
    "        color='Stores')"
   ]
  },
  {
   "cell_type": "code",
   "execution_count": 0,
   "metadata": {
    "colab": {},
    "colab_type": "code",
    "id": "KWSmRqb6cz80"
   },
   "outputs": [],
   "source": [
    "wal_2011 = wal[(wal['Date'] > '2010-12-31') & (wal['Date'] < '2012-01-01') & (wal[\"Type\"]=='A')]\n",
    "wal_2011_top10 = wal_2011.groupby('Dept', as_index=False)['Weekly_Sales'].sum()\n",
    "wal_2011_top10 = wal_2011_top10.nlargest(10, 'Weekly_Sales')\n",
    "depts = wal_2011_top10['Dept'].astype('str')\n",
    "sales = wal_2011_top10['Weekly_Sales']"
   ]
  },
  {
   "cell_type": "code",
   "execution_count": 0,
   "metadata": {
    "colab": {
     "base_uri": "https://localhost:8080/",
     "height": 513
    },
    "colab_type": "code",
    "id": "_VnvDuXgc0GW",
    "outputId": "de6387a4-ba67-4f43-9541-07fba4a2f0e7"
   },
   "outputs": [
    {
     "data": {
      "image/png": "[encoded data removed]",
      "text/plain": [
       "<Figure size 576x576 with 1 Axes>"
      ]
     },
     "metadata": {
      "needs_background": "light",
      "tags": []
     },
     "output_type": "display_data"
    }
   ],
   "source": [
    "fig, ax = plt.subplots()\n",
    "\n",
    "ax.bar(depts, sales)\n",
    "\n",
    "fig.set_size_inches(8, 8)\n",
    "plt.xlabel('Dept')\n",
    "plt.ylabel('Weekly Sales')\n",
    "plt.title('Динамика цен топ 10 отделов магазинов с типом А за 2011 год')\n",
    "\n",
    "plt.show()"
   ]
  },
  {
   "cell_type": "markdown",
   "metadata": {
    "colab_type": "text",
    "id": "gxALq5sQQAU7"
   },
   "source": [
    "## 5. Парадокс дней рождений (30 баллов)"
   ]
  },
  {
   "cell_type": "markdown",
   "metadata": {
    "colab_type": "text",
    "id": "kn64Dc8tQAU8"
   },
   "source": [
    "Прочитайте на википедии про [парадокс дней рождений](https://ru.wikipedia.org/wiki/Парадокс_дней_рождения). В этой задаче нам предстоит его проверить. Итак, в произвольной группе из  $50$ человек вероятность того, что хотя бы у двоих людей дни рождения совпадут, равна  $0.97$. Но это всё только в теории. При решении задачи мы предполагаем, что рождения людей равномерно распределены в течение года. Однако на практике это может быть не так. В связи с этим реальная вероятность может отличаться от теоретической.\n",
    "\n",
    "В этой задачке вам предстоит проверить парадокс дней рождений на эмпирических данных. От вас требуется:\n",
    "1. Выбрать какое-то большое сообщество в Vk. С помощью VkAPI выкачать инфорацию по ее подписчикам (самое главное это дата рождения, а также id пользователя, который будет его характеризовать. Не оставляйте свой токен \n",
    "2. Удалите из данных всех, кто не указал когда он родился. Приведите колонку с датами рождений к удобному, однообразному виду.\n",
    "3. Постройте гистограмму, на которой было бы понятно, в какой месяц родилось какое количество людей. Правда ли, что рождаемость людей в течение года распределена равномерно?\n",
    "4. Эмпирически оцените вероятность того, что в группе из 50 произвольных людей найдутся хотя бы двое с одинаковым днём рождения. Для этого напишите цикл, в ходе которого из таблички будет делаться подвыборка из 50 строк. Для этих 50 строк внутри условия вы должны проверить совпадение дней рождений. Если совпало, то нужно запомнить это в переменную счётчик, которую вы впоследствии, чтобы получить вероятность, поделите на длину цикла.\n",
    "\n",
    "**Обратите внимание, что часто придётся прогонять один и тот же код. Не надо его копировать. Оформите его в виде функции.** "
   ]
  },
  {
   "cell_type": "code",
   "execution_count": 0,
   "metadata": {
    "colab": {},
    "colab_type": "code",
    "id": "fQPg6UhnQAU-"
   },
   "outputs": [],
   "source": [
    "# ваше решение тут\n",
    "version = '5.103'\n",
    "token = ''# сюда свой токен)"
   ]
  },
  {
   "cell_type": "code",
   "execution_count": 0,
   "metadata": {
    "colab": {},
    "colab_type": "code",
    "id": "R5558EULEgBc"
   },
   "outputs": [],
   "source": [
    "def vk_download(method, parameters):\n",
    "  version = '5.103'\n",
    "  token = ''# сюда свой токен)\n",
    "  url = 'https://api.vk.com/method/' + method + '?' + parameters + '&v=' + version + '&access_token=' + token\n",
    "  response = requests.get(url)\n",
    "  if not response.ok:\n",
    "    print('Ошибка при отправке запроса на сайт')\n",
    "    return []\n",
    "  return response.json()"
   ]
  },
  {
   "cell_type": "code",
   "execution_count": 0,
   "metadata": {
    "colab": {},
    "colab_type": "code",
    "id": "xMKl5ikzIp29"
   },
   "outputs": [],
   "source": [
    "def get_followers(group_id):\n",
    "  followers = []\n",
    "  for offset in range(0, 5000, 100):\n",
    "    time.sleep(0.4)\n",
    "    cur_followers = vk_download('groups.getMembers', 'group_id={}&count=100&fields=bdate&offset={}'.format(group_id, offset))\n",
    "    if 'error' in cur_followers:\n",
    "      print('Ошибка')\n",
    "      print(cur_followers['error']['error_msg'])\n",
    "      break;\n",
    "    followers.extend(cur_followers['response']['items'])\n",
    "  return followers"
   ]
  },
  {
   "cell_type": "code",
   "execution_count": 0,
   "metadata": {
    "colab": {},
    "colab_type": "code",
    "id": "vt4-93_eTTQT"
   },
   "outputs": [],
   "source": [
    "group_id = '101965347'\n",
    "followers = get_followers(group_id)"
   ]
  },
  {
   "cell_type": "code",
   "execution_count": 0,
   "metadata": {
    "colab": {},
    "colab_type": "code",
    "id": "7-xGb7P-PCnG"
   },
   "outputs": [],
   "source": [
    "followers_with_bdate = [item for item in followers if 'bdate' in item]\n",
    "for follower in followers_with_bdate:\n",
    "  follower['bdate'] = follower['bdate'].split('.')\n",
    "  follower['bdate'] = follower['bdate'][0] + '.' + follower['bdate'][1]\n",
    "followers_with_bdate[4]['bdate'].split('.')[1]\n",
    "months = [int(item['bdate'].split('.')[1]) for item in followers_with_bdate]"
   ]
  },
  {
   "cell_type": "code",
   "execution_count": 0,
   "metadata": {
    "colab": {
     "base_uri": "https://localhost:8080/",
     "height": 34
    },
    "colab_type": "code",
    "id": "NL-k-4W4Sc4l",
    "outputId": "9d41ecac-7111-4b19-b7c0-07157cc241a5"
   },
   "outputs": [
    {
     "data": {
      "text/plain": [
       "[276, 262, 321, 285, 292, 308, 293, 276, 260, 255, 222, 302]"
      ]
     },
     "execution_count": 204,
     "metadata": {
      "tags": []
     },
     "output_type": "execute_result"
    }
   ],
   "source": [
    "months.count(1)\n",
    "bdate_count = [months.count(i) for i in range(1, 13)]\n",
    "bdate_count"
   ]
  },
  {
   "cell_type": "code",
   "execution_count": 0,
   "metadata": {
    "colab": {
     "base_uri": "https://localhost:8080/",
     "height": 279
    },
    "colab_type": "code",
    "id": "Kab_bgClQJL-",
    "outputId": "2c25932c-7897-4b5a-a3cd-46ee7ed96b56"
   },
   "outputs": [
    {
     "data": {
      "image/png": "[encoded data removed]",
      "text/plain": [
       "<Figure size 432x288 with 1 Axes>"
      ]
     },
     "metadata": {
      "needs_background": "light",
      "tags": []
     },
     "output_type": "display_data"
    }
   ],
   "source": [
    "\n",
    "fig, ax = plt.subplots()\n",
    "\n",
    "ax.bar(list(map(str, np.arange(1, 13))), m)\n",
    "\n",
    "plt.xlim(1, 12)\n",
    "plt.xlabel('months')\n",
    "plt.ylabel('num_of_people')\n",
    "plt.show()"
   ]
  },
  {
   "cell_type": "markdown",
   "metadata": {
    "colab_type": "text",
    "id": "CFj03gAJT1mE"
   },
   "source": [
    "да, рождаемость распределена равномерно."
   ]
  },
  {
   "cell_type": "code",
   "execution_count": 0,
   "metadata": {
    "colab": {},
    "colab_type": "code",
    "id": "55OW4EHXUXrF"
   },
   "outputs": [],
   "source": [
    "def birth_probability(times, bdates)-> float:\n",
    "  equal = 0\n",
    "  count = 0\n",
    "  for i in range(times):\n",
    "    sample = np.random.choice(bdates, size=50)\n",
    "    sample_unique = np.unique(sample)\n",
    "    for date in sample_unique:\n",
    "      count += 1\n",
    "      num = (sample == date).sum()\n",
    "      equal += num if num > 1 else 0\n",
    "  return float(equal)/(count)"
   ]
  },
  {
   "cell_type": "code",
   "execution_count": 0,
   "metadata": {
    "colab": {
     "base_uri": "https://localhost:8080/",
     "height": 34
    },
    "colab_type": "code",
    "id": "Iqj3BSm1YIvR",
    "outputId": "60606671-d60f-4710-db95-77cc122e76df"
   },
   "outputs": [
    {
     "name": "stdout",
     "output_type": "stream",
     "text": [
      "вероятность, что хотя бы у двоих день рождения в один день: 0.1635969664138678\n"
     ]
    }
   ],
   "source": [
    "bdates = [follower['bdate'] for follower in followers_with_bdate]\n",
    "print('вероятность, что хотя бы у двоих день рождения в один день:', birth_probability(20, bdates))"
   ]
  },
  {
   "cell_type": "code",
   "execution_count": 0,
   "metadata": {
    "colab": {},
    "colab_type": "code",
    "id": "GOdBOwn2Vvrc"
   },
   "outputs": [],
   "source": []
  }
 ],
 "metadata": {
  "accelerator": "GPU",
  "colab": {
   "collapsed_sections": [],
   "name": "hw2.ipynb",
   "provenance": []
  },
  "kernelspec": {
   "display_name": "Python 3",
   "language": "python",
   "name": "python3"
  },
  "language_info": {
   "codemirror_mode": {
    "name": "ipython",
    "version": 3
   },
   "file_extension": ".py",
   "mimetype": "text/x-python",
   "name": "python",
   "nbconvert_exporter": "python",
   "pygments_lexer": "ipython3",
   "version": "3.6.9"
  }
 },
 "nbformat": 4,
 "nbformat_minor": 1
}
